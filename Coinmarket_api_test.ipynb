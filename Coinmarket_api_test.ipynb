{
 "cells": [
  {
   "cell_type": "markdown",
   "id": "9307daa2-1d02-4d86-864a-26bdba6e756b",
   "metadata": {},
   "source": [
    "## Première étape : test API\n",
    "### Ici je fais un appel pour prévisualiser les données et voir si tout fonctionne correctement"
   ]
  },
  {
   "cell_type": "code",
   "execution_count": 17,
   "id": "a1ac5774-6826-4112-9421-e17aca1d401b",
   "metadata": {},
   "outputs": [
    {
     "name": "stdout",
     "output_type": "stream",
     "text": [
      "{'status': {'timestamp': '2025-06-17T14:33:46.769Z', 'error_code': 0, 'error_message': None, 'elapsed': 30, 'credit_count': 1, 'notice': None, 'total_count': 9639}, 'data': [{'id': 1, 'name': 'Bitcoin', 'symbol': 'BTC', 'slug': 'bitcoin', 'num_market_pairs': 12217, 'date_added': '2010-07-13T00:00:00.000Z', 'tags': ['mineable', 'pow', 'sha-256', 'store-of-value', 'state-channel', 'coinbase-ventures-portfolio', 'three-arrows-capital-portfolio', 'polychain-capital-portfolio', 'binance-labs-portfolio', 'blockchain-capital-portfolio', 'boostvc-portfolio', 'cms-holdings-portfolio', 'dcg-portfolio', 'dragonfly-capital-portfolio', 'electric-capital-portfolio', 'fabric-ventures-portfolio', 'framework-ventures-portfolio', 'galaxy-digital-portfolio', 'huobi-capital-portfolio', 'alameda-research-portfolio', 'a16z-portfolio', '1confirmation-portfolio', 'winklevoss-capital-portfolio', 'usv-portfolio', 'placeholder-ventures-portfolio', 'pantera-capital-portfolio', 'multicoin-capital-portfolio', 'paradigm-portfolio', 'bitcoin-ecosystem', 'layer-1', 'ftx-bankruptcy-estate', '2017-2018-alt-season', 'us-strategic-crypto-reserve', 'binance-ecosystem', 'binance-listing'], 'max_supply': 21000000, 'circulating_supply': 19878000, 'total_supply': 19878000, 'infinite_supply': False, 'platform': None, 'cmc_rank': 1, 'self_reported_circulating_supply': None, 'self_reported_market_cap': None, 'tvl_ratio': None, 'last_updated': '2025-06-17T14:32:00.000Z', 'quote': {'USD': {'price': 105386.39537230525, 'volume_24h': 54040053238.1498, 'volume_change_24h': 24.7746, 'percent_change_1h': -0.2474358, 'percent_change_24h': -1.90507539, 'percent_change_7d': -3.13235675, 'percent_change_30d': 0.50827538, 'percent_change_60d': 24.77146048, 'percent_change_90d': 25.39016486, 'market_cap': 2094870767210.6838, 'market_cap_dominance': 63.8195, 'fully_diluted_market_cap': 2213114302818.41, 'tvl': None, 'last_updated': '2025-06-17T14:32:00.000Z'}}}, {'id': 1027, 'name': 'Ethereum', 'symbol': 'ETH', 'slug': 'ethereum', 'num_market_pairs': 10345, 'date_added': '2015-08-07T00:00:00.000Z', 'tags': ['pos', 'smart-contracts', 'ethereum-ecosystem', 'coinbase-ventures-portfolio', 'three-arrows-capital-portfolio', 'polychain-capital-portfolio', 'binance-labs-portfolio', 'blockchain-capital-portfolio', 'boostvc-portfolio', 'cms-holdings-portfolio', 'dcg-portfolio', 'dragonfly-capital-portfolio', 'electric-capital-portfolio', 'fabric-ventures-portfolio', 'framework-ventures-portfolio', 'hashkey-capital-portfolio', 'kenetic-capital-portfolio', 'huobi-capital-portfolio', 'alameda-research-portfolio', 'a16z-portfolio', '1confirmation-portfolio', 'winklevoss-capital-portfolio', 'usv-portfolio', 'placeholder-ventures-portfolio', 'pantera-capital-portfolio', 'multicoin-capital-portfolio', 'paradigm-portfolio', 'ethereum-pow-ecosystem', 'layer-1', 'ftx-bankruptcy-estate', 'sora-ecosystem', 'rsk-rbtc-ecosystem', 'world-liberty-financial-portfolio', 'us-strategic-crypto-reserve', 'binance-ecosystem', 'binance-listing'], 'max_supply': None, 'circulating_supply': 120720837.72828963, 'total_supply': 120720837.72828963, 'infinite_supply': True, 'platform': None, 'cmc_rank': 2, 'self_reported_circulating_supply': None, 'self_reported_market_cap': None, 'tvl_ratio': None, 'last_updated': '2025-06-17T14:33:00.000Z', 'quote': {'USD': {'price': 2559.6863746470985, 'volume_24h': 24925656889.648914, 'volume_change_24h': 35.9019, 'percent_change_1h': 0.18010973, 'percent_change_24h': -3.11799354, 'percent_change_7d': -6.32590391, 'percent_change_30d': 0.85720933, 'percent_change_60d': 61.25214231, 'percent_change_90d': 26.41179617, 'market_cap': 309007483469.08636, 'market_cap_dominance': 9.411, 'fully_diluted_market_cap': 309007483469.09, 'tvl': None, 'last_updated': '2025-06-17T14:33:00.000Z'}}}, {'id': 825, 'name': 'Tether USDt', 'symbol': 'USDT', 'slug': 'tether', 'num_market_pairs': 132955, 'date_added': '2015-02-25T00:00:00.000Z', 'tags': ['stablecoin', 'asset-backed-stablecoin', 'usd-stablecoin', 'ethereum-pow-ecosystem', 'fiat-stablecoin', 'tron20-ecosystem', 'rsk-rbtc-ecosystem', 'world-liberty-financial-portfolio', 'binance-ecosystem', 'binance-listing'], 'max_supply': None, 'circulating_supply': 155476225902.81683, 'total_supply': 156996633420.2359, 'platform': {'id': 1027, 'name': 'Ethereum', 'symbol': 'ETH', 'slug': 'ethereum', 'token_address': '0xdac17f958d2ee523a2206206994597c13d831ec7'}, 'infinite_supply': True, 'cmc_rank': 3, 'self_reported_circulating_supply': None, 'self_reported_market_cap': None, 'tvl_ratio': None, 'last_updated': '2025-06-17T14:32:00.000Z', 'quote': {'USD': {'price': 1.0001656345556027, 'volume_24h': 85048032243.66261, 'volume_change_24h': 26.66, 'percent_change_1h': -0.02915387, 'percent_change_24h': -0.02506291, 'percent_change_7d': 0.00235849, 'percent_change_30d': 0.02697602, 'percent_change_60d': 0.03337941, 'percent_change_90d': -0.02551742, 'market_cap': 155501978138.40103, 'market_cap_dominance': 4.7393, 'fully_diluted_market_cap': 157022637487.84, 'tvl': None, 'last_updated': '2025-06-17T14:32:00.000Z'}}}, {'id': 52, 'name': 'XRP', 'symbol': 'XRP', 'slug': 'xrp', 'num_market_pairs': 1626, 'date_added': '2013-08-04T00:00:00.000Z', 'tags': ['medium-of-exchange', 'enterprise-solutions', 'xrp-ecosystem', 'arrington-xrp-capital-portfolio', 'galaxy-digital-portfolio', 'a16z-portfolio', 'pantera-capital-portfolio', 'ftx-bankruptcy-estate', '2017-2018-alt-season', 'klaytn-ecosystem', 'made-in-america', 'us-strategic-crypto-reserve', 'binance-ecosystem', 'binance-listing'], 'max_supply': 100000000000, 'circulating_supply': 58881764070, 'total_supply': 99986037638, 'infinite_supply': False, 'platform': None, 'cmc_rank': 4, 'self_reported_circulating_supply': None, 'self_reported_market_cap': None, 'tvl_ratio': None, 'last_updated': '2025-06-17T14:33:00.000Z', 'quote': {'USD': {'price': 2.2119038869916525, 'volume_24h': 4904858456.434978, 'volume_change_24h': 78.8593, 'percent_change_1h': -0.30229779, 'percent_change_24h': -2.1058221, 'percent_change_7d': -2.89840288, 'percent_change_30d': -8.30335352, 'percent_change_60d': 6.76322008, 'percent_change_90d': -11.92581112, 'market_cap': 130240802819.35843, 'market_cap_dominance': 3.9665, 'fully_diluted_market_cap': 221190388699.17, 'tvl': None, 'last_updated': '2025-06-17T14:33:00.000Z'}}}, {'id': 1839, 'name': 'BNB', 'symbol': 'BNB', 'slug': 'bnb', 'num_market_pairs': 2585, 'date_added': '2017-07-25T00:00:00.000Z', 'tags': ['marketplace', 'centralized-exchange', 'payments', 'smart-contracts', 'alameda-research-portfolio', 'multicoin-capital-portfolio', 'bnb-chain-ecosystem', 'layer-1', 'alleged-sec-securities', 'celsius-bankruptcy-estate', 'binance-ecosystem', 'binance-listing'], 'max_supply': None, 'circulating_supply': 140886299.16, 'total_supply': 140886299.16, 'infinite_supply': False, 'platform': None, 'cmc_rank': 5, 'self_reported_circulating_supply': None, 'self_reported_market_cap': None, 'tvl_ratio': None, 'last_updated': '2025-06-17T14:33:00.000Z', 'quote': {'USD': {'price': 652.5267008778839, 'volume_24h': 1726466302.1046536, 'volume_change_24h': 13.7405, 'percent_change_1h': -0.44629159, 'percent_change_24h': -0.84386848, 'percent_change_7d': -1.31290334, 'percent_change_30d': 0.47577405, 'percent_change_60d': 10.25766609, 'percent_change_90d': 6.8205698, 'market_cap': 91932071989.76938, 'market_cap_dominance': 2.7998, 'fully_diluted_market_cap': 91932071989.77, 'tvl': None, 'last_updated': '2025-06-17T14:33:00.000Z'}}}, {'id': 5426, 'name': 'Solana', 'symbol': 'SOL', 'slug': 'solana', 'num_market_pairs': 936, 'date_added': '2020-04-10T00:00:00.000Z', 'tags': ['pos', 'platform', 'solana-ecosystem', 'cms-holdings-portfolio', 'kenetic-capital-portfolio', 'alameda-research-portfolio', 'multicoin-capital-portfolio', 'okx-ventures-portfolio', 'layer-1', 'ftx-bankruptcy-estate', 'alleged-sec-securities', 'cmc-crypto-awards-2024', 'made-in-america', 'us-strategic-crypto-reserve', 'binance-ecosystem', 'binance-listing'], 'max_supply': None, 'circulating_supply': 527872554.6387441, 'total_supply': 603289232.3257009, 'infinite_supply': True, 'platform': None, 'cmc_rank': 6, 'self_reported_circulating_supply': 525236893.3, 'self_reported_market_cap': 78935284829.5628, 'tvl_ratio': None, 'last_updated': '2025-06-17T14:33:00.000Z', 'quote': {'USD': {'price': 150.28511103555948, 'volume_24h': 4378330255.621725, 'volume_change_24h': -8.5708, 'percent_change_1h': 0.15093264, 'percent_change_24h': -4.28559774, 'percent_change_7d': -4.66138289, 'percent_change_30d': -13.10434171, 'percent_change_60d': 12.2961672, 'percent_change_90d': 14.34315228, 'market_cap': 79331385486.5081, 'market_cap_dominance': 2.4161, 'fully_diluted_market_cap': 90665389266.63, 'tvl': None, 'last_updated': '2025-06-17T14:33:00.000Z'}}}, {'id': 3408, 'name': 'USDC', 'symbol': 'USDC', 'slug': 'usd-coin', 'num_market_pairs': 28707, 'date_added': '2018-10-08T00:00:00.000Z', 'tags': ['medium-of-exchange', 'stablecoin', 'asset-backed-stablecoin', 'coinbase-ventures-portfolio', 'usd-stablecoin', 'ethereum-pow-ecosystem', 'fiat-stablecoin', 'tron20-ecosystem', 'made-in-america', 'world-liberty-financial-portfolio', 'binance-ecosystem', 'binance-listing'], 'max_supply': None, 'circulating_supply': 61602809420.33171, 'total_supply': 61602809420.33171, 'platform': {'id': 1027, 'name': 'Ethereum', 'symbol': 'ETH', 'slug': 'ethereum', 'token_address': '0xa0b86991c6218b36c1d19d4a2e9eb0ce3606eb48'}, 'infinite_supply': False, 'cmc_rank': 7, 'self_reported_circulating_supply': 60901219650.23, 'self_reported_market_cap': 60902187571.30024, 'tvl_ratio': None, 'last_updated': '2025-06-17T14:33:00.000Z', 'quote': {'USD': {'price': 1.0000158932953362, 'volume_24h': 12216192869.793995, 'volume_change_24h': 32.882, 'percent_change_1h': 0.00303495, 'percent_change_24h': -0.03218273, 'percent_change_7d': 0.01645257, 'percent_change_30d': 0.04708113, 'percent_change_60d': 0.01003259, 'percent_change_90d': 0.01514963, 'market_cap': 61603788491.97537, 'market_cap_dominance': 1.8772, 'fully_diluted_market_cap': 61603788491.98, 'tvl': None, 'last_updated': '2025-06-17T14:33:00.000Z'}}}, {'id': 1958, 'name': 'TRON', 'symbol': 'TRX', 'slug': 'tron', 'num_market_pairs': 1187, 'date_added': '2017-09-13T00:00:00.000Z', 'tags': ['media', 'payments', 'tron-ecosystem', 'layer-1', 'dwf-labs-portfolio', 'alleged-sec-securities', '2017-2018-alt-season', 'tron20-ecosystem', 'world-liberty-financial-portfolio', 'binance-ecosystem', 'binance-listing'], 'max_supply': None, 'circulating_supply': 94831906796.4123, 'total_supply': 94831950217.22784, 'infinite_supply': True, 'platform': None, 'cmc_rank': 8, 'self_reported_circulating_supply': 71659659264, 'self_reported_market_cap': 20007296932.84052, 'tvl_ratio': None, 'last_updated': '2025-06-17T14:32:00.000Z', 'quote': {'USD': {'price': 0.2791988845374217, 'volume_24h': 996494959.006715, 'volume_change_24h': -4.3899, 'percent_change_1h': -0.13850137, 'percent_change_24h': 0.30580381, 'percent_change_7d': -4.79853985, 'percent_change_30d': 2.12428401, 'percent_change_60d': 14.86824492, 'percent_change_90d': 21.08835166, 'market_cap': 26476962596.11505, 'market_cap_dominance': 0.8066, 'fully_diluted_market_cap': 26476974719.16, 'tvl': None, 'last_updated': '2025-06-17T14:32:00.000Z'}}}, {'id': 74, 'name': 'Dogecoin', 'symbol': 'DOGE', 'slug': 'dogecoin', 'num_market_pairs': 1236, 'date_added': '2013-12-15T00:00:00.000Z', 'tags': ['mineable', 'pow', 'scrypt', 'medium-of-exchange', 'memes', 'payments', 'doggone-doggerel', 'osmosis-ecosystem', 'ftx-bankruptcy-estate', 'animal-memes', 'made-in-america', 'binance-ecosystem', 'binance-listing'], 'max_supply': None, 'circulating_supply': 149724106383.7052, 'total_supply': 149724106383.7052, 'infinite_supply': True, 'platform': None, 'cmc_rank': 9, 'self_reported_circulating_supply': None, 'self_reported_market_cap': None, 'tvl_ratio': None, 'last_updated': '2025-06-17T14:32:00.000Z', 'quote': {'USD': {'price': 0.17173854422947943, 'volume_24h': 1228612177.0908945, 'volume_change_24h': 19.7839, 'percent_change_1h': -0.11438882, 'percent_change_24h': -3.63237609, 'percent_change_7d': -10.40000935, 'percent_change_30d': -24.32680482, 'percent_change_60d': 9.83347312, 'percent_change_90d': -0.11523701, 'market_cap': 25713400066.39724, 'market_cap_dominance': 0.7834, 'fully_diluted_market_cap': 25713400066.4, 'tvl': None, 'last_updated': '2025-06-17T14:32:00.000Z'}}}, {'id': 2010, 'name': 'Cardano', 'symbol': 'ADA', 'slug': 'cardano', 'num_market_pairs': 1532, 'date_added': '2017-10-01T00:00:00.000Z', 'tags': ['dpos', 'pos', 'platform', 'research', 'smart-contracts', 'staking', 'cardano-ecosystem', 'cardano', 'layer-1', 'alleged-sec-securities', '2017-2018-alt-season', 'made-in-america', 'us-strategic-crypto-reserve', 'binance-ecosystem', 'binance-listing'], 'max_supply': 45000000000, 'circulating_supply': 35356538084.557686, 'total_supply': 44994989664.67408, 'infinite_supply': False, 'platform': None, 'cmc_rank': 10, 'self_reported_circulating_supply': None, 'self_reported_market_cap': None, 'tvl_ratio': None, 'last_updated': '2025-06-17T14:33:00.000Z', 'quote': {'USD': {'price': 0.6259429470274261, 'volume_24h': 705572856.4724295, 'volume_change_24h': 34.1971, 'percent_change_1h': 0.1600597, 'percent_change_24h': -3.53709607, 'percent_change_7d': -9.95582582, 'percent_change_30d': -17.95528506, 'percent_change_60d': 1.52483988, 'percent_change_90d': -14.84280684, 'market_cap': 22131175645.33547, 'market_cap_dominance': 0.6744, 'fully_diluted_market_cap': 28167432616.23, 'tvl': None, 'last_updated': '2025-06-17T14:33:00.000Z'}}}, {'id': 32196, 'name': 'Hyperliquid', 'symbol': 'HYPE', 'slug': 'hyperliquid', 'num_market_pairs': 106, 'date_added': '2024-07-15T10:14:50.000Z', 'tags': ['decentralized-exchange-dex-token', 'defi', 'derivatives', 'layer-1', 'hyperliquid-ecosystem', 'binance-ecosystem', 'binance-listing'], 'max_supply': 1000000000, 'circulating_supply': 333928180, 'total_supply': 999993930, 'platform': {'id': 32196, 'name': 'Hyperliquid', 'symbol': 'HYPE', 'slug': 'hyperliquid', 'token_address': '0x0d01dc56dcaaca66ad901c959b4011ec'}, 'infinite_supply': False, 'cmc_rank': 11, 'self_reported_circulating_supply': 333931719, 'self_reported_market_cap': 13485259000.97821, 'tvl_ratio': None, 'last_updated': '2025-06-17T14:33:00.000Z', 'quote': {'USD': {'price': 40.38328267036594, 'volume_24h': 464768726.5373432, 'volume_change_24h': 32.5907, 'percent_change_1h': 0.57298221, 'percent_change_24h': -10.86034564, 'percent_change_7d': 0.39118595, 'percent_change_30d': 48.79662173, 'percent_change_60d': 140.23444438, 'percent_change_90d': 166.77192942, 'market_cap': 13485116084.54084, 'market_cap_dominance': 0.4108, 'fully_diluted_market_cap': 40383282670.37, 'tvl': None, 'last_updated': '2025-06-17T14:33:00.000Z'}}}, {'id': 20947, 'name': 'Sui', 'symbol': 'SUI', 'slug': 'sui', 'num_market_pairs': 682, 'date_added': '2022-07-12T08:03:11.000Z', 'tags': ['binance-launchpool', 'coinbase-ventures-portfolio', 'binance-labs-portfolio', 'electric-capital-portfolio', 'a16z-portfolio', 'sui-ecosystem', 'layer-1', 'move-vm', 'cmc-crypto-yearbook-2024-2025', 'made-in-america', 'world-liberty-financial-portfolio', 'binance-ecosystem', 'binance-listing'], 'max_supply': 10000000000, 'circulating_supply': 3396671135.3644433, 'total_supply': 10000000000, 'infinite_supply': False, 'platform': None, 'cmc_rank': 12, 'self_reported_circulating_supply': 3396671135.36, 'self_reported_market_cap': 9911140002.20072, 'tvl_ratio': None, 'last_updated': '2025-06-17T14:33:00.000Z', 'quote': {'USD': {'price': 2.9178980264011565, 'volume_24h': 1061104775.9031152, 'volume_change_24h': 26.663, 'percent_change_1h': 0.10965834, 'percent_change_24h': -7.23675516, 'percent_change_7d': -15.17254929, 'percent_change_30d': -25.84034065, 'percent_change_60d': 37.49796578, 'percent_change_90d': 21.26956015, 'market_cap': 9911140002.213684, 'market_cap_dominance': 0.302, 'fully_diluted_market_cap': 29178980264.01, 'tvl': None, 'last_updated': '2025-06-17T14:33:00.000Z'}}}, {'id': 1831, 'name': 'Bitcoin Cash', 'symbol': 'BCH', 'slug': 'bitcoin-cash', 'num_market_pairs': 1024, 'date_added': '2017-07-23T00:00:00.000Z', 'tags': ['mineable', 'pow', 'sha-256', 'marketplace', 'medium-of-exchange', 'store-of-value', 'enterprise-solutions', 'payments', 'layer-1', '2017-2018-alt-season', 'made-in-america', 'binance-ecosystem', 'binance-listing'], 'max_supply': 21000000, 'circulating_supply': 19884987.5, 'total_supply': 19884987.5, 'infinite_supply': False, 'platform': None, 'cmc_rank': 13, 'self_reported_circulating_supply': None, 'self_reported_market_cap': None, 'tvl_ratio': None, 'last_updated': '2025-06-17T14:33:00.000Z', 'quote': {'USD': {'price': 468.5523048241924, 'volume_24h': 542236863.7476197, 'volume_change_24h': -0.985, 'percent_change_1h': 1.48943331, 'percent_change_24h': -0.02887634, 'percent_change_7d': 8.3917622, 'percent_change_30d': 16.26926685, 'percent_change_60d': 37.73300236, 'percent_change_90d': 37.48854533, 'market_cap': 9317156724.525255, 'market_cap_dominance': 0.2839, 'fully_diluted_market_cap': 9839598401.31, 'tvl': None, 'last_updated': '2025-06-17T14:33:00.000Z'}}}, {'id': 1975, 'name': 'Chainlink', 'symbol': 'LINK', 'slug': 'chainlink', 'num_market_pairs': 2021, 'date_added': '2017-09-20T00:00:00.000Z', 'tags': ['platform', 'defi', 'oracles', 'smart-contracts', 'ethereum-ecosystem', 'polkadot', 'heco-ecosystem', 'avalanche-ecosystem', 'solana-ecosystem', 'framework-ventures-portfolio', 'polygon-ecosystem', 'fantom-ecosystem', 'cardano-ecosystem', 'terra-ecosystem', 'web3', 'near-protocol-ecosystem', 'arbitrum-ecosystem', 'cross-chain', 'cardano', 'injective-ecosystem', 'bnb-chain-ecosystem', 'optimism-ecosystem', 'real-world-assets', 'gnosis-chain-ecosystem', 'sora-ecosystem', 'hoo-smart-chain-ecosystem', 'milkomeda-ecosystem', 'energi-ecosystem', 'made-in-america', 'world-liberty-financial-portfolio', 'binance-ecosystem', 'binance-listing'], 'max_supply': None, 'circulating_supply': 657099970.4527867, 'total_supply': 1000000000, 'platform': {'id': 1027, 'name': 'Ethereum', 'symbol': 'ETH', 'slug': 'ethereum', 'token_address': '0x514910771af9ca656af840dff83e8264ecf986ca'}, 'infinite_supply': False, 'cmc_rank': 14, 'self_reported_circulating_supply': None, 'self_reported_market_cap': None, 'tvl_ratio': None, 'last_updated': '2025-06-17T14:32:00.000Z', 'quote': {'USD': {'price': 13.304592608609877, 'volume_24h': 476597625.53811705, 'volume_change_24h': 75.8465, 'percent_change_1h': 0.07706879, 'percent_change_24h': -3.69885646, 'percent_change_7d': -11.69079104, 'percent_change_30d': -16.34370778, 'percent_change_60d': 5.82951659, 'percent_change_90d': -7.83944111, 'market_cap': 8742447410.003914, 'market_cap_dominance': 0.2664, 'fully_diluted_market_cap': 13304592608.61, 'tvl': None, 'last_updated': '2025-06-17T14:32:00.000Z'}}}, {'id': 3957, 'name': 'UNUS SED LEO', 'symbol': 'LEO', 'slug': 'unus-sed-leo', 'num_market_pairs': 61, 'date_added': '2019-05-21T00:00:00.000Z', 'tags': ['marketplace', 'centralized-exchange', 'discount-token', 'payments', 'ethereum-ecosystem', 'kenetic-capital-portfolio', 'alameda-research-portfolio'], 'max_supply': None, 'circulating_supply': 923229177.9, 'total_supply': 985239504, 'platform': {'id': 1027, 'name': 'Ethereum', 'symbol': 'ETH', 'slug': 'ethereum', 'token_address': '0x2af5d2ad76741191d15dfe7bf6ac92d4bd912ca3'}, 'infinite_supply': False, 'cmc_rank': 15, 'self_reported_circulating_supply': None, 'self_reported_market_cap': None, 'tvl_ratio': None, 'last_updated': '2025-06-17T14:33:00.000Z', 'quote': {'USD': {'price': 9.208547602658152, 'volume_24h': 2137801.49020038, 'volume_change_24h': 29.3003, 'percent_change_1h': 0.06195253, 'percent_change_24h': -0.58018883, 'percent_change_7d': 3.75797726, 'percent_change_30d': 5.80863506, 'percent_change_60d': 0.72169708, 'percent_change_90d': -6.16956919, 'market_cap': 8501599832.855102, 'market_cap_dominance': 0.2591, 'fully_diluted_market_cap': 9072624872.6, 'tvl': None, 'last_updated': '2025-06-17T14:33:00.000Z'}}}]}\n"
     ]
    }
   ],
   "source": [
    "# Importation des bibliothèque \n",
    "\n",
    "from requests import Request, Session\n",
    "from requests.exceptions import ConnectionError, Timeout, TooManyRedirects\n",
    "import json\n",
    "import pandas as pd\n",
    "\n",
    "df = pd.DataFrame()  # Déclaration globale une seule fois\n",
    "\n",
    "url = 'https://pro-api.coinmarketcap.com/v1/cryptocurrency/listings/latest'\n",
    "parameters = {\n",
    "  'start':'1',\n",
    "  'limit':'15', # J'ai fixé une limite des 15 premières cryptomonnaies\n",
    "  'convert':'USD'\n",
    "}\n",
    "headers = {\n",
    "  'Accepts': 'application/json',\n",
    "  'X-CMC_PRO_API_KEY': '24f38925-59b9-46eb-9477-4fb57e195f8f',\n",
    "}\n",
    "\n",
    "session = Session()\n",
    "session.headers.update(headers)\n",
    "\n",
    "try:\n",
    "  response = session.get(url, params=parameters)\n",
    "  data = json.loads(response.text)\n",
    "  print(data)\n",
    "except (ConnectionError, Timeout, TooManyRedirects) as e:\n",
    "  print(e)"
   ]
  },
  {
   "cell_type": "code",
   "execution_count": 18,
   "id": "1b88d42f-75b5-4b5c-9232-e5d6735bbbb1",
   "metadata": {},
   "outputs": [],
   "source": [
    "# Certaines colonnes ne s'affichait pas donc j'ai utilisé cette méthode pour afficher toute les colonnes \n",
    "pd.set_option('display.max_columns', None)\n"
   ]
  },
  {
   "cell_type": "code",
   "execution_count": 19,
   "id": "7cbd0847-182d-4c70-bbd4-cccedaba16cd",
   "metadata": {},
   "outputs": [
    {
     "data": {
      "text/html": [
       "<div>\n",
       "<style scoped>\n",
       "    .dataframe tbody tr th:only-of-type {\n",
       "        vertical-align: middle;\n",
       "    }\n",
       "\n",
       "    .dataframe tbody tr th {\n",
       "        vertical-align: top;\n",
       "    }\n",
       "\n",
       "    .dataframe thead th {\n",
       "        text-align: right;\n",
       "    }\n",
       "</style>\n",
       "<table border=\"1\" class=\"dataframe\">\n",
       "  <thead>\n",
       "    <tr style=\"text-align: right;\">\n",
       "      <th></th>\n",
       "      <th>id</th>\n",
       "      <th>name</th>\n",
       "      <th>symbol</th>\n",
       "      <th>slug</th>\n",
       "      <th>num_market_pairs</th>\n",
       "      <th>date_added</th>\n",
       "      <th>tags</th>\n",
       "      <th>max_supply</th>\n",
       "      <th>circulating_supply</th>\n",
       "      <th>total_supply</th>\n",
       "      <th>infinite_supply</th>\n",
       "      <th>platform</th>\n",
       "      <th>cmc_rank</th>\n",
       "      <th>self_reported_circulating_supply</th>\n",
       "      <th>self_reported_market_cap</th>\n",
       "      <th>tvl_ratio</th>\n",
       "      <th>last_updated</th>\n",
       "      <th>quote.USD.price</th>\n",
       "      <th>quote.USD.volume_24h</th>\n",
       "      <th>quote.USD.volume_change_24h</th>\n",
       "      <th>quote.USD.percent_change_1h</th>\n",
       "      <th>quote.USD.percent_change_24h</th>\n",
       "      <th>quote.USD.percent_change_7d</th>\n",
       "      <th>quote.USD.percent_change_30d</th>\n",
       "      <th>quote.USD.percent_change_60d</th>\n",
       "      <th>quote.USD.percent_change_90d</th>\n",
       "      <th>quote.USD.market_cap</th>\n",
       "      <th>quote.USD.market_cap_dominance</th>\n",
       "      <th>quote.USD.fully_diluted_market_cap</th>\n",
       "      <th>quote.USD.tvl</th>\n",
       "      <th>quote.USD.last_updated</th>\n",
       "      <th>platform.id</th>\n",
       "      <th>platform.name</th>\n",
       "      <th>platform.symbol</th>\n",
       "      <th>platform.slug</th>\n",
       "      <th>platform.token_address</th>\n",
       "      <th>timestamp</th>\n",
       "    </tr>\n",
       "  </thead>\n",
       "  <tbody>\n",
       "    <tr>\n",
       "      <th>0</th>\n",
       "      <td>1</td>\n",
       "      <td>Bitcoin</td>\n",
       "      <td>BTC</td>\n",
       "      <td>bitcoin</td>\n",
       "      <td>12217</td>\n",
       "      <td>2010-07-13T00:00:00.000Z</td>\n",
       "      <td>[mineable, pow, sha-256, store-of-value, state...</td>\n",
       "      <td>21000000.00000</td>\n",
       "      <td>19878000.00000</td>\n",
       "      <td>19878000.00000</td>\n",
       "      <td>False</td>\n",
       "      <td>NaN</td>\n",
       "      <td>1</td>\n",
       "      <td>NaN</td>\n",
       "      <td>NaN</td>\n",
       "      <td>None</td>\n",
       "      <td>2025-06-17T14:32:00.000Z</td>\n",
       "      <td>105386.39537</td>\n",
       "      <td>54040053238.14980</td>\n",
       "      <td>24.77460</td>\n",
       "      <td>-0.24744</td>\n",
       "      <td>-1.90508</td>\n",
       "      <td>-3.13236</td>\n",
       "      <td>0.50828</td>\n",
       "      <td>24.77146</td>\n",
       "      <td>25.39016</td>\n",
       "      <td>2094870767210.68384</td>\n",
       "      <td>63.81950</td>\n",
       "      <td>2213114302818.41016</td>\n",
       "      <td>None</td>\n",
       "      <td>2025-06-17T14:32:00.000Z</td>\n",
       "      <td>NaN</td>\n",
       "      <td>NaN</td>\n",
       "      <td>NaN</td>\n",
       "      <td>NaN</td>\n",
       "      <td>NaN</td>\n",
       "      <td>2025-06-17 15:33:50.097114</td>\n",
       "    </tr>\n",
       "    <tr>\n",
       "      <th>1</th>\n",
       "      <td>1027</td>\n",
       "      <td>Ethereum</td>\n",
       "      <td>ETH</td>\n",
       "      <td>ethereum</td>\n",
       "      <td>10345</td>\n",
       "      <td>2015-08-07T00:00:00.000Z</td>\n",
       "      <td>[pos, smart-contracts, ethereum-ecosystem, coi...</td>\n",
       "      <td>NaN</td>\n",
       "      <td>120720837.72829</td>\n",
       "      <td>120720837.72829</td>\n",
       "      <td>True</td>\n",
       "      <td>NaN</td>\n",
       "      <td>2</td>\n",
       "      <td>NaN</td>\n",
       "      <td>NaN</td>\n",
       "      <td>None</td>\n",
       "      <td>2025-06-17T14:33:00.000Z</td>\n",
       "      <td>2559.68637</td>\n",
       "      <td>24925656889.64891</td>\n",
       "      <td>35.90190</td>\n",
       "      <td>0.18011</td>\n",
       "      <td>-3.11799</td>\n",
       "      <td>-6.32590</td>\n",
       "      <td>0.85721</td>\n",
       "      <td>61.25214</td>\n",
       "      <td>26.41180</td>\n",
       "      <td>309007483469.08636</td>\n",
       "      <td>9.41100</td>\n",
       "      <td>309007483469.09003</td>\n",
       "      <td>None</td>\n",
       "      <td>2025-06-17T14:33:00.000Z</td>\n",
       "      <td>NaN</td>\n",
       "      <td>NaN</td>\n",
       "      <td>NaN</td>\n",
       "      <td>NaN</td>\n",
       "      <td>NaN</td>\n",
       "      <td>2025-06-17 15:33:50.097114</td>\n",
       "    </tr>\n",
       "    <tr>\n",
       "      <th>2</th>\n",
       "      <td>825</td>\n",
       "      <td>Tether USDt</td>\n",
       "      <td>USDT</td>\n",
       "      <td>tether</td>\n",
       "      <td>132955</td>\n",
       "      <td>2015-02-25T00:00:00.000Z</td>\n",
       "      <td>[stablecoin, asset-backed-stablecoin, usd-stab...</td>\n",
       "      <td>NaN</td>\n",
       "      <td>155476225902.81683</td>\n",
       "      <td>156996633420.23590</td>\n",
       "      <td>True</td>\n",
       "      <td>NaN</td>\n",
       "      <td>3</td>\n",
       "      <td>NaN</td>\n",
       "      <td>NaN</td>\n",
       "      <td>None</td>\n",
       "      <td>2025-06-17T14:32:00.000Z</td>\n",
       "      <td>1.00017</td>\n",
       "      <td>85048032243.66261</td>\n",
       "      <td>26.66000</td>\n",
       "      <td>-0.02915</td>\n",
       "      <td>-0.02506</td>\n",
       "      <td>0.00236</td>\n",
       "      <td>0.02698</td>\n",
       "      <td>0.03338</td>\n",
       "      <td>-0.02552</td>\n",
       "      <td>155501978138.40103</td>\n",
       "      <td>4.73930</td>\n",
       "      <td>157022637487.84000</td>\n",
       "      <td>None</td>\n",
       "      <td>2025-06-17T14:32:00.000Z</td>\n",
       "      <td>1027.00000</td>\n",
       "      <td>Ethereum</td>\n",
       "      <td>ETH</td>\n",
       "      <td>ethereum</td>\n",
       "      <td>0xdac17f958d2ee523a2206206994597c13d831ec7</td>\n",
       "      <td>2025-06-17 15:33:50.097114</td>\n",
       "    </tr>\n",
       "    <tr>\n",
       "      <th>3</th>\n",
       "      <td>52</td>\n",
       "      <td>XRP</td>\n",
       "      <td>XRP</td>\n",
       "      <td>xrp</td>\n",
       "      <td>1626</td>\n",
       "      <td>2013-08-04T00:00:00.000Z</td>\n",
       "      <td>[medium-of-exchange, enterprise-solutions, xrp...</td>\n",
       "      <td>100000000000.00000</td>\n",
       "      <td>58881764070.00000</td>\n",
       "      <td>99986037638.00000</td>\n",
       "      <td>False</td>\n",
       "      <td>NaN</td>\n",
       "      <td>4</td>\n",
       "      <td>NaN</td>\n",
       "      <td>NaN</td>\n",
       "      <td>None</td>\n",
       "      <td>2025-06-17T14:33:00.000Z</td>\n",
       "      <td>2.21190</td>\n",
       "      <td>4904858456.43498</td>\n",
       "      <td>78.85930</td>\n",
       "      <td>-0.30230</td>\n",
       "      <td>-2.10582</td>\n",
       "      <td>-2.89840</td>\n",
       "      <td>-8.30335</td>\n",
       "      <td>6.76322</td>\n",
       "      <td>-11.92581</td>\n",
       "      <td>130240802819.35843</td>\n",
       "      <td>3.96650</td>\n",
       "      <td>221190388699.17001</td>\n",
       "      <td>None</td>\n",
       "      <td>2025-06-17T14:33:00.000Z</td>\n",
       "      <td>NaN</td>\n",
       "      <td>NaN</td>\n",
       "      <td>NaN</td>\n",
       "      <td>NaN</td>\n",
       "      <td>NaN</td>\n",
       "      <td>2025-06-17 15:33:50.097114</td>\n",
       "    </tr>\n",
       "    <tr>\n",
       "      <th>4</th>\n",
       "      <td>1839</td>\n",
       "      <td>BNB</td>\n",
       "      <td>BNB</td>\n",
       "      <td>bnb</td>\n",
       "      <td>2585</td>\n",
       "      <td>2017-07-25T00:00:00.000Z</td>\n",
       "      <td>[marketplace, centralized-exchange, payments, ...</td>\n",
       "      <td>NaN</td>\n",
       "      <td>140886299.16000</td>\n",
       "      <td>140886299.16000</td>\n",
       "      <td>False</td>\n",
       "      <td>NaN</td>\n",
       "      <td>5</td>\n",
       "      <td>NaN</td>\n",
       "      <td>NaN</td>\n",
       "      <td>None</td>\n",
       "      <td>2025-06-17T14:33:00.000Z</td>\n",
       "      <td>652.52670</td>\n",
       "      <td>1726466302.10465</td>\n",
       "      <td>13.74050</td>\n",
       "      <td>-0.44629</td>\n",
       "      <td>-0.84387</td>\n",
       "      <td>-1.31290</td>\n",
       "      <td>0.47577</td>\n",
       "      <td>10.25767</td>\n",
       "      <td>6.82057</td>\n",
       "      <td>91932071989.76938</td>\n",
       "      <td>2.79980</td>\n",
       "      <td>91932071989.77000</td>\n",
       "      <td>None</td>\n",
       "      <td>2025-06-17T14:33:00.000Z</td>\n",
       "      <td>NaN</td>\n",
       "      <td>NaN</td>\n",
       "      <td>NaN</td>\n",
       "      <td>NaN</td>\n",
       "      <td>NaN</td>\n",
       "      <td>2025-06-17 15:33:50.097114</td>\n",
       "    </tr>\n",
       "    <tr>\n",
       "      <th>5</th>\n",
       "      <td>5426</td>\n",
       "      <td>Solana</td>\n",
       "      <td>SOL</td>\n",
       "      <td>solana</td>\n",
       "      <td>936</td>\n",
       "      <td>2020-04-10T00:00:00.000Z</td>\n",
       "      <td>[pos, platform, solana-ecosystem, cms-holdings...</td>\n",
       "      <td>NaN</td>\n",
       "      <td>527872554.63874</td>\n",
       "      <td>603289232.32570</td>\n",
       "      <td>True</td>\n",
       "      <td>NaN</td>\n",
       "      <td>6</td>\n",
       "      <td>525236893.30000</td>\n",
       "      <td>78935284829.56281</td>\n",
       "      <td>None</td>\n",
       "      <td>2025-06-17T14:33:00.000Z</td>\n",
       "      <td>150.28511</td>\n",
       "      <td>4378330255.62173</td>\n",
       "      <td>-8.57080</td>\n",
       "      <td>0.15093</td>\n",
       "      <td>-4.28560</td>\n",
       "      <td>-4.66138</td>\n",
       "      <td>-13.10434</td>\n",
       "      <td>12.29617</td>\n",
       "      <td>14.34315</td>\n",
       "      <td>79331385486.50810</td>\n",
       "      <td>2.41610</td>\n",
       "      <td>90665389266.63000</td>\n",
       "      <td>None</td>\n",
       "      <td>2025-06-17T14:33:00.000Z</td>\n",
       "      <td>NaN</td>\n",
       "      <td>NaN</td>\n",
       "      <td>NaN</td>\n",
       "      <td>NaN</td>\n",
       "      <td>NaN</td>\n",
       "      <td>2025-06-17 15:33:50.097114</td>\n",
       "    </tr>\n",
       "    <tr>\n",
       "      <th>6</th>\n",
       "      <td>3408</td>\n",
       "      <td>USDC</td>\n",
       "      <td>USDC</td>\n",
       "      <td>usd-coin</td>\n",
       "      <td>28707</td>\n",
       "      <td>2018-10-08T00:00:00.000Z</td>\n",
       "      <td>[medium-of-exchange, stablecoin, asset-backed-...</td>\n",
       "      <td>NaN</td>\n",
       "      <td>61602809420.33171</td>\n",
       "      <td>61602809420.33171</td>\n",
       "      <td>False</td>\n",
       "      <td>NaN</td>\n",
       "      <td>7</td>\n",
       "      <td>60901219650.23000</td>\n",
       "      <td>60902187571.30024</td>\n",
       "      <td>None</td>\n",
       "      <td>2025-06-17T14:33:00.000Z</td>\n",
       "      <td>1.00002</td>\n",
       "      <td>12216192869.79399</td>\n",
       "      <td>32.88200</td>\n",
       "      <td>0.00303</td>\n",
       "      <td>-0.03218</td>\n",
       "      <td>0.01645</td>\n",
       "      <td>0.04708</td>\n",
       "      <td>0.01003</td>\n",
       "      <td>0.01515</td>\n",
       "      <td>61603788491.97537</td>\n",
       "      <td>1.87720</td>\n",
       "      <td>61603788491.98000</td>\n",
       "      <td>None</td>\n",
       "      <td>2025-06-17T14:33:00.000Z</td>\n",
       "      <td>1027.00000</td>\n",
       "      <td>Ethereum</td>\n",
       "      <td>ETH</td>\n",
       "      <td>ethereum</td>\n",
       "      <td>0xa0b86991c6218b36c1d19d4a2e9eb0ce3606eb48</td>\n",
       "      <td>2025-06-17 15:33:50.097114</td>\n",
       "    </tr>\n",
       "    <tr>\n",
       "      <th>7</th>\n",
       "      <td>1958</td>\n",
       "      <td>TRON</td>\n",
       "      <td>TRX</td>\n",
       "      <td>tron</td>\n",
       "      <td>1187</td>\n",
       "      <td>2017-09-13T00:00:00.000Z</td>\n",
       "      <td>[media, payments, tron-ecosystem, layer-1, dwf...</td>\n",
       "      <td>NaN</td>\n",
       "      <td>94831906796.41229</td>\n",
       "      <td>94831950217.22784</td>\n",
       "      <td>True</td>\n",
       "      <td>NaN</td>\n",
       "      <td>8</td>\n",
       "      <td>71659659264.00000</td>\n",
       "      <td>20007296932.84052</td>\n",
       "      <td>None</td>\n",
       "      <td>2025-06-17T14:32:00.000Z</td>\n",
       "      <td>0.27920</td>\n",
       "      <td>996494959.00672</td>\n",
       "      <td>-4.38990</td>\n",
       "      <td>-0.13850</td>\n",
       "      <td>0.30580</td>\n",
       "      <td>-4.79854</td>\n",
       "      <td>2.12428</td>\n",
       "      <td>14.86824</td>\n",
       "      <td>21.08835</td>\n",
       "      <td>26476962596.11505</td>\n",
       "      <td>0.80660</td>\n",
       "      <td>26476974719.16000</td>\n",
       "      <td>None</td>\n",
       "      <td>2025-06-17T14:32:00.000Z</td>\n",
       "      <td>NaN</td>\n",
       "      <td>NaN</td>\n",
       "      <td>NaN</td>\n",
       "      <td>NaN</td>\n",
       "      <td>NaN</td>\n",
       "      <td>2025-06-17 15:33:50.097114</td>\n",
       "    </tr>\n",
       "    <tr>\n",
       "      <th>8</th>\n",
       "      <td>74</td>\n",
       "      <td>Dogecoin</td>\n",
       "      <td>DOGE</td>\n",
       "      <td>dogecoin</td>\n",
       "      <td>1236</td>\n",
       "      <td>2013-12-15T00:00:00.000Z</td>\n",
       "      <td>[mineable, pow, scrypt, medium-of-exchange, me...</td>\n",
       "      <td>NaN</td>\n",
       "      <td>149724106383.70520</td>\n",
       "      <td>149724106383.70520</td>\n",
       "      <td>True</td>\n",
       "      <td>NaN</td>\n",
       "      <td>9</td>\n",
       "      <td>NaN</td>\n",
       "      <td>NaN</td>\n",
       "      <td>None</td>\n",
       "      <td>2025-06-17T14:32:00.000Z</td>\n",
       "      <td>0.17174</td>\n",
       "      <td>1228612177.09089</td>\n",
       "      <td>19.78390</td>\n",
       "      <td>-0.11439</td>\n",
       "      <td>-3.63238</td>\n",
       "      <td>-10.40001</td>\n",
       "      <td>-24.32680</td>\n",
       "      <td>9.83347</td>\n",
       "      <td>-0.11524</td>\n",
       "      <td>25713400066.39724</td>\n",
       "      <td>0.78340</td>\n",
       "      <td>25713400066.40000</td>\n",
       "      <td>None</td>\n",
       "      <td>2025-06-17T14:32:00.000Z</td>\n",
       "      <td>NaN</td>\n",
       "      <td>NaN</td>\n",
       "      <td>NaN</td>\n",
       "      <td>NaN</td>\n",
       "      <td>NaN</td>\n",
       "      <td>2025-06-17 15:33:50.097114</td>\n",
       "    </tr>\n",
       "    <tr>\n",
       "      <th>9</th>\n",
       "      <td>2010</td>\n",
       "      <td>Cardano</td>\n",
       "      <td>ADA</td>\n",
       "      <td>cardano</td>\n",
       "      <td>1532</td>\n",
       "      <td>2017-10-01T00:00:00.000Z</td>\n",
       "      <td>[dpos, pos, platform, research, smart-contract...</td>\n",
       "      <td>45000000000.00000</td>\n",
       "      <td>35356538084.55769</td>\n",
       "      <td>44994989664.67408</td>\n",
       "      <td>False</td>\n",
       "      <td>NaN</td>\n",
       "      <td>10</td>\n",
       "      <td>NaN</td>\n",
       "      <td>NaN</td>\n",
       "      <td>None</td>\n",
       "      <td>2025-06-17T14:33:00.000Z</td>\n",
       "      <td>0.62594</td>\n",
       "      <td>705572856.47243</td>\n",
       "      <td>34.19710</td>\n",
       "      <td>0.16006</td>\n",
       "      <td>-3.53710</td>\n",
       "      <td>-9.95583</td>\n",
       "      <td>-17.95529</td>\n",
       "      <td>1.52484</td>\n",
       "      <td>-14.84281</td>\n",
       "      <td>22131175645.33547</td>\n",
       "      <td>0.67440</td>\n",
       "      <td>28167432616.23000</td>\n",
       "      <td>None</td>\n",
       "      <td>2025-06-17T14:33:00.000Z</td>\n",
       "      <td>NaN</td>\n",
       "      <td>NaN</td>\n",
       "      <td>NaN</td>\n",
       "      <td>NaN</td>\n",
       "      <td>NaN</td>\n",
       "      <td>2025-06-17 15:33:50.097114</td>\n",
       "    </tr>\n",
       "    <tr>\n",
       "      <th>10</th>\n",
       "      <td>32196</td>\n",
       "      <td>Hyperliquid</td>\n",
       "      <td>HYPE</td>\n",
       "      <td>hyperliquid</td>\n",
       "      <td>106</td>\n",
       "      <td>2024-07-15T10:14:50.000Z</td>\n",
       "      <td>[decentralized-exchange-dex-token, defi, deriv...</td>\n",
       "      <td>1000000000.00000</td>\n",
       "      <td>333928180.00000</td>\n",
       "      <td>999993930.00000</td>\n",
       "      <td>False</td>\n",
       "      <td>NaN</td>\n",
       "      <td>11</td>\n",
       "      <td>333931719.00000</td>\n",
       "      <td>13485259000.97821</td>\n",
       "      <td>None</td>\n",
       "      <td>2025-06-17T14:33:00.000Z</td>\n",
       "      <td>40.38328</td>\n",
       "      <td>464768726.53734</td>\n",
       "      <td>32.59070</td>\n",
       "      <td>0.57298</td>\n",
       "      <td>-10.86035</td>\n",
       "      <td>0.39119</td>\n",
       "      <td>48.79662</td>\n",
       "      <td>140.23444</td>\n",
       "      <td>166.77193</td>\n",
       "      <td>13485116084.54084</td>\n",
       "      <td>0.41080</td>\n",
       "      <td>40383282670.37000</td>\n",
       "      <td>None</td>\n",
       "      <td>2025-06-17T14:33:00.000Z</td>\n",
       "      <td>32196.00000</td>\n",
       "      <td>Hyperliquid</td>\n",
       "      <td>HYPE</td>\n",
       "      <td>hyperliquid</td>\n",
       "      <td>0x0d01dc56dcaaca66ad901c959b4011ec</td>\n",
       "      <td>2025-06-17 15:33:50.097114</td>\n",
       "    </tr>\n",
       "    <tr>\n",
       "      <th>11</th>\n",
       "      <td>20947</td>\n",
       "      <td>Sui</td>\n",
       "      <td>SUI</td>\n",
       "      <td>sui</td>\n",
       "      <td>682</td>\n",
       "      <td>2022-07-12T08:03:11.000Z</td>\n",
       "      <td>[binance-launchpool, coinbase-ventures-portfol...</td>\n",
       "      <td>10000000000.00000</td>\n",
       "      <td>3396671135.36444</td>\n",
       "      <td>10000000000.00000</td>\n",
       "      <td>False</td>\n",
       "      <td>NaN</td>\n",
       "      <td>12</td>\n",
       "      <td>3396671135.36000</td>\n",
       "      <td>9911140002.20072</td>\n",
       "      <td>None</td>\n",
       "      <td>2025-06-17T14:33:00.000Z</td>\n",
       "      <td>2.91790</td>\n",
       "      <td>1061104775.90312</td>\n",
       "      <td>26.66300</td>\n",
       "      <td>0.10966</td>\n",
       "      <td>-7.23676</td>\n",
       "      <td>-15.17255</td>\n",
       "      <td>-25.84034</td>\n",
       "      <td>37.49797</td>\n",
       "      <td>21.26956</td>\n",
       "      <td>9911140002.21368</td>\n",
       "      <td>0.30200</td>\n",
       "      <td>29178980264.01000</td>\n",
       "      <td>None</td>\n",
       "      <td>2025-06-17T14:33:00.000Z</td>\n",
       "      <td>NaN</td>\n",
       "      <td>NaN</td>\n",
       "      <td>NaN</td>\n",
       "      <td>NaN</td>\n",
       "      <td>NaN</td>\n",
       "      <td>2025-06-17 15:33:50.097114</td>\n",
       "    </tr>\n",
       "    <tr>\n",
       "      <th>12</th>\n",
       "      <td>1831</td>\n",
       "      <td>Bitcoin Cash</td>\n",
       "      <td>BCH</td>\n",
       "      <td>bitcoin-cash</td>\n",
       "      <td>1024</td>\n",
       "      <td>2017-07-23T00:00:00.000Z</td>\n",
       "      <td>[mineable, pow, sha-256, marketplace, medium-o...</td>\n",
       "      <td>21000000.00000</td>\n",
       "      <td>19884987.50000</td>\n",
       "      <td>19884987.50000</td>\n",
       "      <td>False</td>\n",
       "      <td>NaN</td>\n",
       "      <td>13</td>\n",
       "      <td>NaN</td>\n",
       "      <td>NaN</td>\n",
       "      <td>None</td>\n",
       "      <td>2025-06-17T14:33:00.000Z</td>\n",
       "      <td>468.55230</td>\n",
       "      <td>542236863.74762</td>\n",
       "      <td>-0.98500</td>\n",
       "      <td>1.48943</td>\n",
       "      <td>-0.02888</td>\n",
       "      <td>8.39176</td>\n",
       "      <td>16.26927</td>\n",
       "      <td>37.73300</td>\n",
       "      <td>37.48855</td>\n",
       "      <td>9317156724.52526</td>\n",
       "      <td>0.28390</td>\n",
       "      <td>9839598401.31000</td>\n",
       "      <td>None</td>\n",
       "      <td>2025-06-17T14:33:00.000Z</td>\n",
       "      <td>NaN</td>\n",
       "      <td>NaN</td>\n",
       "      <td>NaN</td>\n",
       "      <td>NaN</td>\n",
       "      <td>NaN</td>\n",
       "      <td>2025-06-17 15:33:50.097114</td>\n",
       "    </tr>\n",
       "    <tr>\n",
       "      <th>13</th>\n",
       "      <td>1975</td>\n",
       "      <td>Chainlink</td>\n",
       "      <td>LINK</td>\n",
       "      <td>chainlink</td>\n",
       "      <td>2021</td>\n",
       "      <td>2017-09-20T00:00:00.000Z</td>\n",
       "      <td>[platform, defi, oracles, smart-contracts, eth...</td>\n",
       "      <td>NaN</td>\n",
       "      <td>657099970.45279</td>\n",
       "      <td>1000000000.00000</td>\n",
       "      <td>False</td>\n",
       "      <td>NaN</td>\n",
       "      <td>14</td>\n",
       "      <td>NaN</td>\n",
       "      <td>NaN</td>\n",
       "      <td>None</td>\n",
       "      <td>2025-06-17T14:32:00.000Z</td>\n",
       "      <td>13.30459</td>\n",
       "      <td>476597625.53812</td>\n",
       "      <td>75.84650</td>\n",
       "      <td>0.07707</td>\n",
       "      <td>-3.69886</td>\n",
       "      <td>-11.69079</td>\n",
       "      <td>-16.34371</td>\n",
       "      <td>5.82952</td>\n",
       "      <td>-7.83944</td>\n",
       "      <td>8742447410.00391</td>\n",
       "      <td>0.26640</td>\n",
       "      <td>13304592608.61000</td>\n",
       "      <td>None</td>\n",
       "      <td>2025-06-17T14:32:00.000Z</td>\n",
       "      <td>1027.00000</td>\n",
       "      <td>Ethereum</td>\n",
       "      <td>ETH</td>\n",
       "      <td>ethereum</td>\n",
       "      <td>0x514910771af9ca656af840dff83e8264ecf986ca</td>\n",
       "      <td>2025-06-17 15:33:50.097114</td>\n",
       "    </tr>\n",
       "    <tr>\n",
       "      <th>14</th>\n",
       "      <td>3957</td>\n",
       "      <td>UNUS SED LEO</td>\n",
       "      <td>LEO</td>\n",
       "      <td>unus-sed-leo</td>\n",
       "      <td>61</td>\n",
       "      <td>2019-05-21T00:00:00.000Z</td>\n",
       "      <td>[marketplace, centralized-exchange, discount-t...</td>\n",
       "      <td>NaN</td>\n",
       "      <td>923229177.90000</td>\n",
       "      <td>985239504.00000</td>\n",
       "      <td>False</td>\n",
       "      <td>NaN</td>\n",
       "      <td>15</td>\n",
       "      <td>NaN</td>\n",
       "      <td>NaN</td>\n",
       "      <td>None</td>\n",
       "      <td>2025-06-17T14:33:00.000Z</td>\n",
       "      <td>9.20855</td>\n",
       "      <td>2137801.49020</td>\n",
       "      <td>29.30030</td>\n",
       "      <td>0.06195</td>\n",
       "      <td>-0.58019</td>\n",
       "      <td>3.75798</td>\n",
       "      <td>5.80864</td>\n",
       "      <td>0.72170</td>\n",
       "      <td>-6.16957</td>\n",
       "      <td>8501599832.85510</td>\n",
       "      <td>0.25910</td>\n",
       "      <td>9072624872.60000</td>\n",
       "      <td>None</td>\n",
       "      <td>2025-06-17T14:33:00.000Z</td>\n",
       "      <td>1027.00000</td>\n",
       "      <td>Ethereum</td>\n",
       "      <td>ETH</td>\n",
       "      <td>ethereum</td>\n",
       "      <td>0x2af5d2ad76741191d15dfe7bf6ac92d4bd912ca3</td>\n",
       "      <td>2025-06-17 15:33:50.097114</td>\n",
       "    </tr>\n",
       "  </tbody>\n",
       "</table>\n",
       "</div>"
      ],
      "text/plain": [
       "       id          name symbol          slug  num_market_pairs  \\\n",
       "0       1       Bitcoin    BTC       bitcoin             12217   \n",
       "1    1027      Ethereum    ETH      ethereum             10345   \n",
       "2     825   Tether USDt   USDT        tether            132955   \n",
       "3      52           XRP    XRP           xrp              1626   \n",
       "4    1839           BNB    BNB           bnb              2585   \n",
       "5    5426        Solana    SOL        solana               936   \n",
       "6    3408          USDC   USDC      usd-coin             28707   \n",
       "7    1958          TRON    TRX          tron              1187   \n",
       "8      74      Dogecoin   DOGE      dogecoin              1236   \n",
       "9    2010       Cardano    ADA       cardano              1532   \n",
       "10  32196   Hyperliquid   HYPE   hyperliquid               106   \n",
       "11  20947           Sui    SUI           sui               682   \n",
       "12   1831  Bitcoin Cash    BCH  bitcoin-cash              1024   \n",
       "13   1975     Chainlink   LINK     chainlink              2021   \n",
       "14   3957  UNUS SED LEO    LEO  unus-sed-leo                61   \n",
       "\n",
       "                  date_added  \\\n",
       "0   2010-07-13T00:00:00.000Z   \n",
       "1   2015-08-07T00:00:00.000Z   \n",
       "2   2015-02-25T00:00:00.000Z   \n",
       "3   2013-08-04T00:00:00.000Z   \n",
       "4   2017-07-25T00:00:00.000Z   \n",
       "5   2020-04-10T00:00:00.000Z   \n",
       "6   2018-10-08T00:00:00.000Z   \n",
       "7   2017-09-13T00:00:00.000Z   \n",
       "8   2013-12-15T00:00:00.000Z   \n",
       "9   2017-10-01T00:00:00.000Z   \n",
       "10  2024-07-15T10:14:50.000Z   \n",
       "11  2022-07-12T08:03:11.000Z   \n",
       "12  2017-07-23T00:00:00.000Z   \n",
       "13  2017-09-20T00:00:00.000Z   \n",
       "14  2019-05-21T00:00:00.000Z   \n",
       "\n",
       "                                                 tags         max_supply  \\\n",
       "0   [mineable, pow, sha-256, store-of-value, state...     21000000.00000   \n",
       "1   [pos, smart-contracts, ethereum-ecosystem, coi...                NaN   \n",
       "2   [stablecoin, asset-backed-stablecoin, usd-stab...                NaN   \n",
       "3   [medium-of-exchange, enterprise-solutions, xrp... 100000000000.00000   \n",
       "4   [marketplace, centralized-exchange, payments, ...                NaN   \n",
       "5   [pos, platform, solana-ecosystem, cms-holdings...                NaN   \n",
       "6   [medium-of-exchange, stablecoin, asset-backed-...                NaN   \n",
       "7   [media, payments, tron-ecosystem, layer-1, dwf...                NaN   \n",
       "8   [mineable, pow, scrypt, medium-of-exchange, me...                NaN   \n",
       "9   [dpos, pos, platform, research, smart-contract...  45000000000.00000   \n",
       "10  [decentralized-exchange-dex-token, defi, deriv...   1000000000.00000   \n",
       "11  [binance-launchpool, coinbase-ventures-portfol...  10000000000.00000   \n",
       "12  [mineable, pow, sha-256, marketplace, medium-o...     21000000.00000   \n",
       "13  [platform, defi, oracles, smart-contracts, eth...                NaN   \n",
       "14  [marketplace, centralized-exchange, discount-t...                NaN   \n",
       "\n",
       "    circulating_supply       total_supply  infinite_supply  platform  \\\n",
       "0       19878000.00000     19878000.00000            False       NaN   \n",
       "1      120720837.72829    120720837.72829             True       NaN   \n",
       "2   155476225902.81683 156996633420.23590             True       NaN   \n",
       "3    58881764070.00000  99986037638.00000            False       NaN   \n",
       "4      140886299.16000    140886299.16000            False       NaN   \n",
       "5      527872554.63874    603289232.32570             True       NaN   \n",
       "6    61602809420.33171  61602809420.33171            False       NaN   \n",
       "7    94831906796.41229  94831950217.22784             True       NaN   \n",
       "8   149724106383.70520 149724106383.70520             True       NaN   \n",
       "9    35356538084.55769  44994989664.67408            False       NaN   \n",
       "10     333928180.00000    999993930.00000            False       NaN   \n",
       "11    3396671135.36444  10000000000.00000            False       NaN   \n",
       "12      19884987.50000     19884987.50000            False       NaN   \n",
       "13     657099970.45279   1000000000.00000            False       NaN   \n",
       "14     923229177.90000    985239504.00000            False       NaN   \n",
       "\n",
       "    cmc_rank  self_reported_circulating_supply  self_reported_market_cap  \\\n",
       "0          1                               NaN                       NaN   \n",
       "1          2                               NaN                       NaN   \n",
       "2          3                               NaN                       NaN   \n",
       "3          4                               NaN                       NaN   \n",
       "4          5                               NaN                       NaN   \n",
       "5          6                   525236893.30000         78935284829.56281   \n",
       "6          7                 60901219650.23000         60902187571.30024   \n",
       "7          8                 71659659264.00000         20007296932.84052   \n",
       "8          9                               NaN                       NaN   \n",
       "9         10                               NaN                       NaN   \n",
       "10        11                   333931719.00000         13485259000.97821   \n",
       "11        12                  3396671135.36000          9911140002.20072   \n",
       "12        13                               NaN                       NaN   \n",
       "13        14                               NaN                       NaN   \n",
       "14        15                               NaN                       NaN   \n",
       "\n",
       "   tvl_ratio              last_updated  quote.USD.price  quote.USD.volume_24h  \\\n",
       "0       None  2025-06-17T14:32:00.000Z     105386.39537     54040053238.14980   \n",
       "1       None  2025-06-17T14:33:00.000Z       2559.68637     24925656889.64891   \n",
       "2       None  2025-06-17T14:32:00.000Z          1.00017     85048032243.66261   \n",
       "3       None  2025-06-17T14:33:00.000Z          2.21190      4904858456.43498   \n",
       "4       None  2025-06-17T14:33:00.000Z        652.52670      1726466302.10465   \n",
       "5       None  2025-06-17T14:33:00.000Z        150.28511      4378330255.62173   \n",
       "6       None  2025-06-17T14:33:00.000Z          1.00002     12216192869.79399   \n",
       "7       None  2025-06-17T14:32:00.000Z          0.27920       996494959.00672   \n",
       "8       None  2025-06-17T14:32:00.000Z          0.17174      1228612177.09089   \n",
       "9       None  2025-06-17T14:33:00.000Z          0.62594       705572856.47243   \n",
       "10      None  2025-06-17T14:33:00.000Z         40.38328       464768726.53734   \n",
       "11      None  2025-06-17T14:33:00.000Z          2.91790      1061104775.90312   \n",
       "12      None  2025-06-17T14:33:00.000Z        468.55230       542236863.74762   \n",
       "13      None  2025-06-17T14:32:00.000Z         13.30459       476597625.53812   \n",
       "14      None  2025-06-17T14:33:00.000Z          9.20855         2137801.49020   \n",
       "\n",
       "    quote.USD.volume_change_24h  quote.USD.percent_change_1h  \\\n",
       "0                      24.77460                     -0.24744   \n",
       "1                      35.90190                      0.18011   \n",
       "2                      26.66000                     -0.02915   \n",
       "3                      78.85930                     -0.30230   \n",
       "4                      13.74050                     -0.44629   \n",
       "5                      -8.57080                      0.15093   \n",
       "6                      32.88200                      0.00303   \n",
       "7                      -4.38990                     -0.13850   \n",
       "8                      19.78390                     -0.11439   \n",
       "9                      34.19710                      0.16006   \n",
       "10                     32.59070                      0.57298   \n",
       "11                     26.66300                      0.10966   \n",
       "12                     -0.98500                      1.48943   \n",
       "13                     75.84650                      0.07707   \n",
       "14                     29.30030                      0.06195   \n",
       "\n",
       "    quote.USD.percent_change_24h  quote.USD.percent_change_7d  \\\n",
       "0                       -1.90508                     -3.13236   \n",
       "1                       -3.11799                     -6.32590   \n",
       "2                       -0.02506                      0.00236   \n",
       "3                       -2.10582                     -2.89840   \n",
       "4                       -0.84387                     -1.31290   \n",
       "5                       -4.28560                     -4.66138   \n",
       "6                       -0.03218                      0.01645   \n",
       "7                        0.30580                     -4.79854   \n",
       "8                       -3.63238                    -10.40001   \n",
       "9                       -3.53710                     -9.95583   \n",
       "10                     -10.86035                      0.39119   \n",
       "11                      -7.23676                    -15.17255   \n",
       "12                      -0.02888                      8.39176   \n",
       "13                      -3.69886                    -11.69079   \n",
       "14                      -0.58019                      3.75798   \n",
       "\n",
       "    quote.USD.percent_change_30d  quote.USD.percent_change_60d  \\\n",
       "0                        0.50828                      24.77146   \n",
       "1                        0.85721                      61.25214   \n",
       "2                        0.02698                       0.03338   \n",
       "3                       -8.30335                       6.76322   \n",
       "4                        0.47577                      10.25767   \n",
       "5                      -13.10434                      12.29617   \n",
       "6                        0.04708                       0.01003   \n",
       "7                        2.12428                      14.86824   \n",
       "8                      -24.32680                       9.83347   \n",
       "9                      -17.95529                       1.52484   \n",
       "10                      48.79662                     140.23444   \n",
       "11                     -25.84034                      37.49797   \n",
       "12                      16.26927                      37.73300   \n",
       "13                     -16.34371                       5.82952   \n",
       "14                       5.80864                       0.72170   \n",
       "\n",
       "    quote.USD.percent_change_90d  quote.USD.market_cap  \\\n",
       "0                       25.39016   2094870767210.68384   \n",
       "1                       26.41180    309007483469.08636   \n",
       "2                       -0.02552    155501978138.40103   \n",
       "3                      -11.92581    130240802819.35843   \n",
       "4                        6.82057     91932071989.76938   \n",
       "5                       14.34315     79331385486.50810   \n",
       "6                        0.01515     61603788491.97537   \n",
       "7                       21.08835     26476962596.11505   \n",
       "8                       -0.11524     25713400066.39724   \n",
       "9                      -14.84281     22131175645.33547   \n",
       "10                     166.77193     13485116084.54084   \n",
       "11                      21.26956      9911140002.21368   \n",
       "12                      37.48855      9317156724.52526   \n",
       "13                      -7.83944      8742447410.00391   \n",
       "14                      -6.16957      8501599832.85510   \n",
       "\n",
       "    quote.USD.market_cap_dominance  quote.USD.fully_diluted_market_cap  \\\n",
       "0                         63.81950                 2213114302818.41016   \n",
       "1                          9.41100                  309007483469.09003   \n",
       "2                          4.73930                  157022637487.84000   \n",
       "3                          3.96650                  221190388699.17001   \n",
       "4                          2.79980                   91932071989.77000   \n",
       "5                          2.41610                   90665389266.63000   \n",
       "6                          1.87720                   61603788491.98000   \n",
       "7                          0.80660                   26476974719.16000   \n",
       "8                          0.78340                   25713400066.40000   \n",
       "9                          0.67440                   28167432616.23000   \n",
       "10                         0.41080                   40383282670.37000   \n",
       "11                         0.30200                   29178980264.01000   \n",
       "12                         0.28390                    9839598401.31000   \n",
       "13                         0.26640                   13304592608.61000   \n",
       "14                         0.25910                    9072624872.60000   \n",
       "\n",
       "   quote.USD.tvl    quote.USD.last_updated  platform.id platform.name  \\\n",
       "0           None  2025-06-17T14:32:00.000Z          NaN           NaN   \n",
       "1           None  2025-06-17T14:33:00.000Z          NaN           NaN   \n",
       "2           None  2025-06-17T14:32:00.000Z   1027.00000      Ethereum   \n",
       "3           None  2025-06-17T14:33:00.000Z          NaN           NaN   \n",
       "4           None  2025-06-17T14:33:00.000Z          NaN           NaN   \n",
       "5           None  2025-06-17T14:33:00.000Z          NaN           NaN   \n",
       "6           None  2025-06-17T14:33:00.000Z   1027.00000      Ethereum   \n",
       "7           None  2025-06-17T14:32:00.000Z          NaN           NaN   \n",
       "8           None  2025-06-17T14:32:00.000Z          NaN           NaN   \n",
       "9           None  2025-06-17T14:33:00.000Z          NaN           NaN   \n",
       "10          None  2025-06-17T14:33:00.000Z  32196.00000   Hyperliquid   \n",
       "11          None  2025-06-17T14:33:00.000Z          NaN           NaN   \n",
       "12          None  2025-06-17T14:33:00.000Z          NaN           NaN   \n",
       "13          None  2025-06-17T14:32:00.000Z   1027.00000      Ethereum   \n",
       "14          None  2025-06-17T14:33:00.000Z   1027.00000      Ethereum   \n",
       "\n",
       "   platform.symbol platform.slug                      platform.token_address  \\\n",
       "0              NaN           NaN                                         NaN   \n",
       "1              NaN           NaN                                         NaN   \n",
       "2              ETH      ethereum  0xdac17f958d2ee523a2206206994597c13d831ec7   \n",
       "3              NaN           NaN                                         NaN   \n",
       "4              NaN           NaN                                         NaN   \n",
       "5              NaN           NaN                                         NaN   \n",
       "6              ETH      ethereum  0xa0b86991c6218b36c1d19d4a2e9eb0ce3606eb48   \n",
       "7              NaN           NaN                                         NaN   \n",
       "8              NaN           NaN                                         NaN   \n",
       "9              NaN           NaN                                         NaN   \n",
       "10            HYPE   hyperliquid          0x0d01dc56dcaaca66ad901c959b4011ec   \n",
       "11             NaN           NaN                                         NaN   \n",
       "12             NaN           NaN                                         NaN   \n",
       "13             ETH      ethereum  0x514910771af9ca656af840dff83e8264ecf986ca   \n",
       "14             ETH      ethereum  0x2af5d2ad76741191d15dfe7bf6ac92d4bd912ca3   \n",
       "\n",
       "                    timestamp  \n",
       "0  2025-06-17 15:33:50.097114  \n",
       "1  2025-06-17 15:33:50.097114  \n",
       "2  2025-06-17 15:33:50.097114  \n",
       "3  2025-06-17 15:33:50.097114  \n",
       "4  2025-06-17 15:33:50.097114  \n",
       "5  2025-06-17 15:33:50.097114  \n",
       "6  2025-06-17 15:33:50.097114  \n",
       "7  2025-06-17 15:33:50.097114  \n",
       "8  2025-06-17 15:33:50.097114  \n",
       "9  2025-06-17 15:33:50.097114  \n",
       "10 2025-06-17 15:33:50.097114  \n",
       "11 2025-06-17 15:33:50.097114  \n",
       "12 2025-06-17 15:33:50.097114  \n",
       "13 2025-06-17 15:33:50.097114  \n",
       "14 2025-06-17 15:33:50.097114  "
      ]
     },
     "execution_count": 19,
     "metadata": {},
     "output_type": "execute_result"
    }
   ],
   "source": [
    "# Ici j'affiche les données sous forme de dataframe pour une meilleur observation des données\n",
    "df = pd.json_normalize(data['data'])\n",
    "df['timestamp'] = pd.to_datetime('now')\n",
    "df"
   ]
  },
  {
   "cell_type": "markdown",
   "id": "b8f0e4df-2a8c-4f16-8cc0-02754ccef5f7",
   "metadata": {},
   "source": [
    "## Seconde étape : automatison le processus d'actualisation des données en temps réel\n",
    "### Mon projet commence. Mon but est d'automatiser la collecte d'information sur les cryptomonnaies et les stocker dans un fichier CSV en local\n",
    "### runner_api() est la fonction que j'ai crée pour automatiser ce travail\n"
   ]
  },
  {
   "cell_type": "code",
   "execution_count": 20,
   "id": "e37997ff-b97c-4bf6-8e66-11c6dc0aa336",
   "metadata": {},
   "outputs": [],
   "source": [
    "# Importation des bibliothèques \n",
    "import os\n",
    "import pandas as pd\n",
    "import json\n",
    "from requests import Session\n",
    "from requests.exceptions import ConnectionError, Timeout, TooManyRedirects\n",
    "from time import sleep\n",
    "\n",
    "# La fonction runner_api qui va se charger d'automatiser ma collecte\n",
    "def runner_api():\n",
    "    url = 'https://pro-api.coinmarketcap.com/v1/cryptocurrency/listings/latest'\n",
    "    parameters = {\n",
    "        'start': '1',\n",
    "        'limit': '15',\n",
    "        'convert': 'USD'\n",
    "    }\n",
    "    headers = {\n",
    "        'Accepts': 'application/json',\n",
    "        'X-CMC_PRO_API_KEY': '24f38925-59b9-46eb-9477-4fb57e195f8f',\n",
    "    }\n",
    "\n",
    "    session = Session()\n",
    "    session.headers.update(headers)\n",
    "\n",
    "    try:\n",
    "        response = session.get(url, params=parameters)\n",
    "        data = json.loads(response.text)\n",
    "    except (ConnectionError, Timeout, TooManyRedirects) as e:\n",
    "        print(\"Erreur API :\", e)\n",
    "        return\n",
    "\n",
    "    df_new = pd.json_normalize(data['data'])\n",
    "    df_new['timestamp'] = pd.to_datetime('now')\n",
    "\n",
    "    path = r'C:\\Users\\pc\\Desktop\\API Handling\\API.csv'\n",
    "\n",
    "# Ici j'utilise la méthode try, except pour gérer les erreurs qui peuvent survenir et bloquer le problème comme les coupures de courant par exemple\n",
    "\n",
    "    if os.path.isfile(path):\n",
    "        try:\n",
    "            df_old = pd.read_csv(path)\n",
    "            # Fusion sur la colonne 'id' (unique pour chaque crypto)\n",
    "            df_merged = pd.merge(df_old, df_new, on='id', how='outer', suffixes=('_old', ''))\n",
    "            # Supprime les anciennes colonnes (ex: name_old, symbol_old...)\n",
    "            df_final = df_new  # ou améliore la fusion pour conserver certains champs si tu veux\n",
    "        except Exception as e:\n",
    "            print(\"⚠️ Erreur lors du chargement ou de la fusion :\", e)\n",
    "            df_final = df_new\n",
    "    else:\n",
    "        df_final = df_new\n",
    "\n",
    "    try:\n",
    "        df_final.to_csv(path, index=False)\n",
    "        print(\"✅ Fichier mis à jour avec succès.\")\n",
    "    except PermissionError as e:\n",
    "        print(\"🚫 Problème d'accès au fichier CSV :\", e)\n"
   ]
  },
  {
   "cell_type": "code",
   "execution_count": null,
   "id": "5ca230fd-4ffc-4d41-a9a6-06094c57387c",
   "metadata": {},
   "outputs": [],
   "source": [
    "# Fichier pour stocker le numéro du dernier appel réussi comme ça lors de la prochaine collecte ma fonction runner_api() sait où elle s'est arrêté\n",
    "compteur_file = 'compteur.txt'\n",
    "\n",
    "# Lecture de la position actuelle (ou 0 si c’est la première fois)\n",
    "if os.path.exists(compteur_file):\n",
    "    with open(compteur_file, 'r') as f:\n",
    "        try:\n",
    "            start_index = int(f.read())\n",
    "        except:\n",
    "            start_index = 0\n",
    "else:\n",
    "    start_index = 0\n",
    "\n",
    "# Lancement de la boucle avec reprise automatique\n",
    "for i in range(start_index, 333):\n",
    "    print(f\"📡 Appel {i+1}\")\n",
    "    try:\n",
    "        runner_api()\n",
    "\n",
    "        # Mise à jour du compteur après chaque appel réussi\n",
    "        with open(compteur_file, 'w') as f:\n",
    "            f.write(str(i + 1))\n",
    "\n",
    "    except Exception as e:\n",
    "        print(f\"❌ Erreur pendant l'appel {i+1} :\", e)\n",
    "    \n",
    "    sleep(60)  # Pause d'une minute entre les appels"
   ]
  },
  {
   "cell_type": "markdown",
   "id": "05e21603-474d-417b-a6f2-36db1b1b99b8",
   "metadata": {},
   "source": [
    "## Nettoyage des donnée et Visualisation \n",
    "### Maintenant qu'on a pu tout automatiser nous allons passer au nettoyage des données. Nous avons besoins pour chaque cryptomonnaie d'analyer ses variation chaque 1H, 24h, 7d, 30d, 60d, et enfin 90d. Nous allons donc selectionner uniquement les colonnes appropiés.\n",
    "\n",
    "### L'objectif ici est d'analyser les variation dans le temps de chaque cryptomonnaie les unes par rapport aux autres."
   ]
  },
  {
   "cell_type": "code",
   "execution_count": null,
   "id": "580bae1b-d37d-40da-aaef-200476081b1b",
   "metadata": {},
   "outputs": [],
   "source": [
    "# Certaine données sont dans un format mathématique qui peut rendre l'analyse complexe. Je les transforme donc en float \n",
    "# (nombre à virgule) avec 5 chiffres après la virgules.\n",
    "\n",
    "pd.set_option('display.float_format', lambda x: '%.5f' % x)"
   ]
  },
  {
   "cell_type": "code",
   "execution_count": null,
   "id": "ae6762fd-f3a3-40e9-a272-f1edfab44c9f",
   "metadata": {},
   "outputs": [],
   "source": [
    "# Je range ces données dans un dataframe en fonction des colonnes que j'ai choisie \n",
    "\n",
    "df3 = df.groupby('name', sort = False)[['quote.USD.percent_change_1h','quote.USD.percent_change_24h','quote.USD.percent_change_7d','quote.USD.percent_change_30d','quote.USD.percent_change_60d','quote.USD.percent_change_90d']].mean()\n",
    "df3"
   ]
  },
  {
   "cell_type": "code",
   "execution_count": 8,
   "id": "f0903b34-e8de-4685-9580-24dc0f24eac5",
   "metadata": {},
   "outputs": [
    {
     "data": {
      "text/plain": [
       "name                                      \n",
       "Bitcoin       quote.USD.percent_change_1h     -0.04623\n",
       "              quote.USD.percent_change_24h    -1.50615\n",
       "              quote.USD.percent_change_7d     -3.25188\n",
       "              quote.USD.percent_change_30d     0.70259\n",
       "              quote.USD.percent_change_60d    24.81129\n",
       "              quote.USD.percent_change_90d    25.09986\n",
       "Ethereum      quote.USD.percent_change_1h      0.45458\n",
       "              quote.USD.percent_change_24h    -2.76295\n",
       "              quote.USD.percent_change_7d     -6.67558\n",
       "              quote.USD.percent_change_30d     0.90831\n",
       "              quote.USD.percent_change_60d    60.96405\n",
       "              quote.USD.percent_change_90d    25.90830\n",
       "Tether USDt   quote.USD.percent_change_1h     -0.00748\n",
       "              quote.USD.percent_change_24h    -0.01539\n",
       "              quote.USD.percent_change_7d     -0.01384\n",
       "              quote.USD.percent_change_30d     0.00586\n",
       "              quote.USD.percent_change_60d     0.02253\n",
       "              quote.USD.percent_change_90d     0.01145\n",
       "XRP           quote.USD.percent_change_1h      0.40654\n",
       "              quote.USD.percent_change_24h    -1.69354\n",
       "              quote.USD.percent_change_7d     -3.03309\n",
       "              quote.USD.percent_change_30d    -7.80542\n",
       "              quote.USD.percent_change_60d     6.82767\n",
       "              quote.USD.percent_change_90d   -13.30316\n",
       "BNB           quote.USD.percent_change_1h     -0.21551\n",
       "              quote.USD.percent_change_24h    -0.68066\n",
       "              quote.USD.percent_change_7d     -1.41226\n",
       "              quote.USD.percent_change_30d     0.59909\n",
       "              quote.USD.percent_change_60d    10.19432\n",
       "              quote.USD.percent_change_90d     6.67608\n",
       "Solana        quote.USD.percent_change_1h      0.03461\n",
       "              quote.USD.percent_change_24h    -4.30246\n",
       "              quote.USD.percent_change_7d     -5.47471\n",
       "              quote.USD.percent_change_30d   -13.35834\n",
       "              quote.USD.percent_change_60d    11.43151\n",
       "              quote.USD.percent_change_90d    13.26101\n",
       "USDC          quote.USD.percent_change_1h     -0.00251\n",
       "              quote.USD.percent_change_24h    -0.01069\n",
       "              quote.USD.percent_change_7d     -0.00545\n",
       "              quote.USD.percent_change_30d     0.01458\n",
       "              quote.USD.percent_change_60d    -0.00512\n",
       "              quote.USD.percent_change_90d    -0.02029\n",
       "TRON          quote.USD.percent_change_1h      0.09748\n",
       "              quote.USD.percent_change_24h     0.28272\n",
       "              quote.USD.percent_change_7d     -4.75034\n",
       "              quote.USD.percent_change_30d     2.21354\n",
       "              quote.USD.percent_change_60d    14.77060\n",
       "              quote.USD.percent_change_90d    21.08826\n",
       "Dogecoin      quote.USD.percent_change_1h     -0.03527\n",
       "              quote.USD.percent_change_24h    -3.77754\n",
       "              quote.USD.percent_change_7d    -10.83629\n",
       "              quote.USD.percent_change_30d   -24.34103\n",
       "              quote.USD.percent_change_60d     9.53128\n",
       "              quote.USD.percent_change_90d    -1.02323\n",
       "Cardano       quote.USD.percent_change_1h      0.17590\n",
       "              quote.USD.percent_change_24h    -3.95300\n",
       "              quote.USD.percent_change_7d    -10.63139\n",
       "              quote.USD.percent_change_30d   -18.27685\n",
       "              quote.USD.percent_change_60d     0.78647\n",
       "              quote.USD.percent_change_90d   -15.86339\n",
       "Hyperliquid   quote.USD.percent_change_1h     -0.12969\n",
       "              quote.USD.percent_change_24h   -11.50020\n",
       "              quote.USD.percent_change_7d     -0.87078\n",
       "              quote.USD.percent_change_30d    47.68807\n",
       "              quote.USD.percent_change_60d   137.50788\n",
       "              quote.USD.percent_change_90d   163.68361\n",
       "Sui           quote.USD.percent_change_1h      0.05990\n",
       "              quote.USD.percent_change_24h    -7.48328\n",
       "              quote.USD.percent_change_7d    -15.58703\n",
       "              quote.USD.percent_change_30d   -25.75303\n",
       "              quote.USD.percent_change_60d    36.53567\n",
       "              quote.USD.percent_change_90d    20.62352\n",
       "Bitcoin Cash  quote.USD.percent_change_1h     -0.25158\n",
       "              quote.USD.percent_change_24h    -1.45869\n",
       "              quote.USD.percent_change_7d      6.53586\n",
       "              quote.USD.percent_change_30d    14.78334\n",
       "              quote.USD.percent_change_60d    35.38865\n",
       "              quote.USD.percent_change_90d    34.63032\n",
       "Chainlink     quote.USD.percent_change_1h      0.61954\n",
       "              quote.USD.percent_change_24h    -3.72955\n",
       "              quote.USD.percent_change_7d    -11.92316\n",
       "              quote.USD.percent_change_30d   -16.12644\n",
       "              quote.USD.percent_change_60d     5.50234\n",
       "              quote.USD.percent_change_90d    -8.47417\n",
       "UNUS SED LEO  quote.USD.percent_change_1h     -0.06443\n",
       "              quote.USD.percent_change_24h    -0.57974\n",
       "              quote.USD.percent_change_7d      3.84480\n",
       "              quote.USD.percent_change_30d     6.03813\n",
       "              quote.USD.percent_change_60d     0.64359\n",
       "              quote.USD.percent_change_90d    -6.18666\n",
       "dtype: float64"
      ]
     },
     "execution_count": 8,
     "metadata": {},
     "output_type": "execute_result"
    }
   ],
   "source": [
    "# Je classe ces données en seulement deux colonnes 3 colonnes pour une meilleur visibilité\n",
    "\n",
    "pd.set_option('display.max_rows', None)  # Affiche toutes les lignes\n",
    "pd.set_option('display.max_columns', None)\n",
    "\n",
    "df4 = df3.stack()\n",
    "df4"
   ]
  },
  {
   "cell_type": "code",
   "execution_count": null,
   "id": "6282c4a5-3ba5-44dd-9735-b75c95576bf9",
   "metadata": {},
   "outputs": [],
   "source": [
    "# Ici encore pour un aspect plus esthétique je range ces données dans un frame\n",
    "\n",
    "df5 = df4.to_frame(name= 'values')\n",
    "df5"
   ]
  },
  {
   "cell_type": "code",
   "execution_count": null,
   "id": "ad766532-18f4-45e7-b643-d298ed1af8ed",
   "metadata": {},
   "outputs": [],
   "source": [
    "# Une indexation des valeurs est nécéssaire il faut donc compter le nombre de valeur qu'on a \n",
    "df5.count()"
   ]
  },
  {
   "cell_type": "code",
   "execution_count": null,
   "id": "6baacb4c-bbc7-4b5b-a4df-68fecac209cf",
   "metadata": {},
   "outputs": [],
   "source": [
    "# Après avoir compter je vais les indexer \n",
    "\n",
    "index = pd.Index(range(90))\n",
    "df6 = df5.reset_index()\n",
    "df7 = df6.rename(columns={'level_1' : 'percent_change'})\n",
    "df7"
   ]
  },
  {
   "cell_type": "code",
   "execution_count": 12,
   "id": "0177cfc4-649b-4cc0-8bd3-2ae4f13475b3",
   "metadata": {},
   "outputs": [
    {
     "data": {
      "text/html": [
       "<div>\n",
       "<style scoped>\n",
       "    .dataframe tbody tr th:only-of-type {\n",
       "        vertical-align: middle;\n",
       "    }\n",
       "\n",
       "    .dataframe tbody tr th {\n",
       "        vertical-align: top;\n",
       "    }\n",
       "\n",
       "    .dataframe thead th {\n",
       "        text-align: right;\n",
       "    }\n",
       "</style>\n",
       "<table border=\"1\" class=\"dataframe\">\n",
       "  <thead>\n",
       "    <tr style=\"text-align: right;\">\n",
       "      <th></th>\n",
       "      <th>name</th>\n",
       "      <th>percent_change</th>\n",
       "      <th>values</th>\n",
       "    </tr>\n",
       "  </thead>\n",
       "  <tbody>\n",
       "    <tr>\n",
       "      <th>0</th>\n",
       "      <td>Bitcoin</td>\n",
       "      <td>1h</td>\n",
       "      <td>-0.04623</td>\n",
       "    </tr>\n",
       "    <tr>\n",
       "      <th>1</th>\n",
       "      <td>Bitcoin</td>\n",
       "      <td>24h</td>\n",
       "      <td>-1.50615</td>\n",
       "    </tr>\n",
       "    <tr>\n",
       "      <th>2</th>\n",
       "      <td>Bitcoin</td>\n",
       "      <td>7d</td>\n",
       "      <td>-3.25188</td>\n",
       "    </tr>\n",
       "    <tr>\n",
       "      <th>3</th>\n",
       "      <td>Bitcoin</td>\n",
       "      <td>30d</td>\n",
       "      <td>0.70259</td>\n",
       "    </tr>\n",
       "    <tr>\n",
       "      <th>4</th>\n",
       "      <td>Bitcoin</td>\n",
       "      <td>60d</td>\n",
       "      <td>24.81129</td>\n",
       "    </tr>\n",
       "    <tr>\n",
       "      <th>5</th>\n",
       "      <td>Bitcoin</td>\n",
       "      <td>90d</td>\n",
       "      <td>25.09986</td>\n",
       "    </tr>\n",
       "    <tr>\n",
       "      <th>6</th>\n",
       "      <td>Ethereum</td>\n",
       "      <td>1h</td>\n",
       "      <td>0.45458</td>\n",
       "    </tr>\n",
       "    <tr>\n",
       "      <th>7</th>\n",
       "      <td>Ethereum</td>\n",
       "      <td>24h</td>\n",
       "      <td>-2.76295</td>\n",
       "    </tr>\n",
       "    <tr>\n",
       "      <th>8</th>\n",
       "      <td>Ethereum</td>\n",
       "      <td>7d</td>\n",
       "      <td>-6.67558</td>\n",
       "    </tr>\n",
       "    <tr>\n",
       "      <th>9</th>\n",
       "      <td>Ethereum</td>\n",
       "      <td>30d</td>\n",
       "      <td>0.90831</td>\n",
       "    </tr>\n",
       "    <tr>\n",
       "      <th>10</th>\n",
       "      <td>Ethereum</td>\n",
       "      <td>60d</td>\n",
       "      <td>60.96405</td>\n",
       "    </tr>\n",
       "    <tr>\n",
       "      <th>11</th>\n",
       "      <td>Ethereum</td>\n",
       "      <td>90d</td>\n",
       "      <td>25.90830</td>\n",
       "    </tr>\n",
       "    <tr>\n",
       "      <th>12</th>\n",
       "      <td>Tether USDt</td>\n",
       "      <td>1h</td>\n",
       "      <td>-0.00748</td>\n",
       "    </tr>\n",
       "    <tr>\n",
       "      <th>13</th>\n",
       "      <td>Tether USDt</td>\n",
       "      <td>24h</td>\n",
       "      <td>-0.01539</td>\n",
       "    </tr>\n",
       "    <tr>\n",
       "      <th>14</th>\n",
       "      <td>Tether USDt</td>\n",
       "      <td>7d</td>\n",
       "      <td>-0.01384</td>\n",
       "    </tr>\n",
       "    <tr>\n",
       "      <th>15</th>\n",
       "      <td>Tether USDt</td>\n",
       "      <td>30d</td>\n",
       "      <td>0.00586</td>\n",
       "    </tr>\n",
       "    <tr>\n",
       "      <th>16</th>\n",
       "      <td>Tether USDt</td>\n",
       "      <td>60d</td>\n",
       "      <td>0.02253</td>\n",
       "    </tr>\n",
       "    <tr>\n",
       "      <th>17</th>\n",
       "      <td>Tether USDt</td>\n",
       "      <td>90d</td>\n",
       "      <td>0.01145</td>\n",
       "    </tr>\n",
       "    <tr>\n",
       "      <th>18</th>\n",
       "      <td>XRP</td>\n",
       "      <td>1h</td>\n",
       "      <td>0.40654</td>\n",
       "    </tr>\n",
       "    <tr>\n",
       "      <th>19</th>\n",
       "      <td>XRP</td>\n",
       "      <td>24h</td>\n",
       "      <td>-1.69354</td>\n",
       "    </tr>\n",
       "    <tr>\n",
       "      <th>20</th>\n",
       "      <td>XRP</td>\n",
       "      <td>7d</td>\n",
       "      <td>-3.03309</td>\n",
       "    </tr>\n",
       "    <tr>\n",
       "      <th>21</th>\n",
       "      <td>XRP</td>\n",
       "      <td>30d</td>\n",
       "      <td>-7.80542</td>\n",
       "    </tr>\n",
       "    <tr>\n",
       "      <th>22</th>\n",
       "      <td>XRP</td>\n",
       "      <td>60d</td>\n",
       "      <td>6.82767</td>\n",
       "    </tr>\n",
       "    <tr>\n",
       "      <th>23</th>\n",
       "      <td>XRP</td>\n",
       "      <td>90d</td>\n",
       "      <td>-13.30316</td>\n",
       "    </tr>\n",
       "    <tr>\n",
       "      <th>24</th>\n",
       "      <td>BNB</td>\n",
       "      <td>1h</td>\n",
       "      <td>-0.21551</td>\n",
       "    </tr>\n",
       "    <tr>\n",
       "      <th>25</th>\n",
       "      <td>BNB</td>\n",
       "      <td>24h</td>\n",
       "      <td>-0.68066</td>\n",
       "    </tr>\n",
       "    <tr>\n",
       "      <th>26</th>\n",
       "      <td>BNB</td>\n",
       "      <td>7d</td>\n",
       "      <td>-1.41226</td>\n",
       "    </tr>\n",
       "    <tr>\n",
       "      <th>27</th>\n",
       "      <td>BNB</td>\n",
       "      <td>30d</td>\n",
       "      <td>0.59909</td>\n",
       "    </tr>\n",
       "    <tr>\n",
       "      <th>28</th>\n",
       "      <td>BNB</td>\n",
       "      <td>60d</td>\n",
       "      <td>10.19432</td>\n",
       "    </tr>\n",
       "    <tr>\n",
       "      <th>29</th>\n",
       "      <td>BNB</td>\n",
       "      <td>90d</td>\n",
       "      <td>6.67608</td>\n",
       "    </tr>\n",
       "    <tr>\n",
       "      <th>30</th>\n",
       "      <td>Solana</td>\n",
       "      <td>1h</td>\n",
       "      <td>0.03461</td>\n",
       "    </tr>\n",
       "    <tr>\n",
       "      <th>31</th>\n",
       "      <td>Solana</td>\n",
       "      <td>24h</td>\n",
       "      <td>-4.30246</td>\n",
       "    </tr>\n",
       "    <tr>\n",
       "      <th>32</th>\n",
       "      <td>Solana</td>\n",
       "      <td>7d</td>\n",
       "      <td>-5.47471</td>\n",
       "    </tr>\n",
       "    <tr>\n",
       "      <th>33</th>\n",
       "      <td>Solana</td>\n",
       "      <td>30d</td>\n",
       "      <td>-13.35834</td>\n",
       "    </tr>\n",
       "    <tr>\n",
       "      <th>34</th>\n",
       "      <td>Solana</td>\n",
       "      <td>60d</td>\n",
       "      <td>11.43151</td>\n",
       "    </tr>\n",
       "    <tr>\n",
       "      <th>35</th>\n",
       "      <td>Solana</td>\n",
       "      <td>90d</td>\n",
       "      <td>13.26101</td>\n",
       "    </tr>\n",
       "    <tr>\n",
       "      <th>36</th>\n",
       "      <td>USDC</td>\n",
       "      <td>1h</td>\n",
       "      <td>-0.00251</td>\n",
       "    </tr>\n",
       "    <tr>\n",
       "      <th>37</th>\n",
       "      <td>USDC</td>\n",
       "      <td>24h</td>\n",
       "      <td>-0.01069</td>\n",
       "    </tr>\n",
       "    <tr>\n",
       "      <th>38</th>\n",
       "      <td>USDC</td>\n",
       "      <td>7d</td>\n",
       "      <td>-0.00545</td>\n",
       "    </tr>\n",
       "    <tr>\n",
       "      <th>39</th>\n",
       "      <td>USDC</td>\n",
       "      <td>30d</td>\n",
       "      <td>0.01458</td>\n",
       "    </tr>\n",
       "    <tr>\n",
       "      <th>40</th>\n",
       "      <td>USDC</td>\n",
       "      <td>60d</td>\n",
       "      <td>-0.00512</td>\n",
       "    </tr>\n",
       "    <tr>\n",
       "      <th>41</th>\n",
       "      <td>USDC</td>\n",
       "      <td>90d</td>\n",
       "      <td>-0.02029</td>\n",
       "    </tr>\n",
       "    <tr>\n",
       "      <th>42</th>\n",
       "      <td>TRON</td>\n",
       "      <td>1h</td>\n",
       "      <td>0.09748</td>\n",
       "    </tr>\n",
       "    <tr>\n",
       "      <th>43</th>\n",
       "      <td>TRON</td>\n",
       "      <td>24h</td>\n",
       "      <td>0.28272</td>\n",
       "    </tr>\n",
       "    <tr>\n",
       "      <th>44</th>\n",
       "      <td>TRON</td>\n",
       "      <td>7d</td>\n",
       "      <td>-4.75034</td>\n",
       "    </tr>\n",
       "    <tr>\n",
       "      <th>45</th>\n",
       "      <td>TRON</td>\n",
       "      <td>30d</td>\n",
       "      <td>2.21354</td>\n",
       "    </tr>\n",
       "    <tr>\n",
       "      <th>46</th>\n",
       "      <td>TRON</td>\n",
       "      <td>60d</td>\n",
       "      <td>14.77060</td>\n",
       "    </tr>\n",
       "    <tr>\n",
       "      <th>47</th>\n",
       "      <td>TRON</td>\n",
       "      <td>90d</td>\n",
       "      <td>21.08826</td>\n",
       "    </tr>\n",
       "    <tr>\n",
       "      <th>48</th>\n",
       "      <td>Dogecoin</td>\n",
       "      <td>1h</td>\n",
       "      <td>-0.03527</td>\n",
       "    </tr>\n",
       "    <tr>\n",
       "      <th>49</th>\n",
       "      <td>Dogecoin</td>\n",
       "      <td>24h</td>\n",
       "      <td>-3.77754</td>\n",
       "    </tr>\n",
       "    <tr>\n",
       "      <th>50</th>\n",
       "      <td>Dogecoin</td>\n",
       "      <td>7d</td>\n",
       "      <td>-10.83629</td>\n",
       "    </tr>\n",
       "    <tr>\n",
       "      <th>51</th>\n",
       "      <td>Dogecoin</td>\n",
       "      <td>30d</td>\n",
       "      <td>-24.34103</td>\n",
       "    </tr>\n",
       "    <tr>\n",
       "      <th>52</th>\n",
       "      <td>Dogecoin</td>\n",
       "      <td>60d</td>\n",
       "      <td>9.53128</td>\n",
       "    </tr>\n",
       "    <tr>\n",
       "      <th>53</th>\n",
       "      <td>Dogecoin</td>\n",
       "      <td>90d</td>\n",
       "      <td>-1.02323</td>\n",
       "    </tr>\n",
       "    <tr>\n",
       "      <th>54</th>\n",
       "      <td>Cardano</td>\n",
       "      <td>1h</td>\n",
       "      <td>0.17590</td>\n",
       "    </tr>\n",
       "    <tr>\n",
       "      <th>55</th>\n",
       "      <td>Cardano</td>\n",
       "      <td>24h</td>\n",
       "      <td>-3.95300</td>\n",
       "    </tr>\n",
       "    <tr>\n",
       "      <th>56</th>\n",
       "      <td>Cardano</td>\n",
       "      <td>7d</td>\n",
       "      <td>-10.63139</td>\n",
       "    </tr>\n",
       "    <tr>\n",
       "      <th>57</th>\n",
       "      <td>Cardano</td>\n",
       "      <td>30d</td>\n",
       "      <td>-18.27685</td>\n",
       "    </tr>\n",
       "    <tr>\n",
       "      <th>58</th>\n",
       "      <td>Cardano</td>\n",
       "      <td>60d</td>\n",
       "      <td>0.78647</td>\n",
       "    </tr>\n",
       "    <tr>\n",
       "      <th>59</th>\n",
       "      <td>Cardano</td>\n",
       "      <td>90d</td>\n",
       "      <td>-15.86339</td>\n",
       "    </tr>\n",
       "    <tr>\n",
       "      <th>60</th>\n",
       "      <td>Hyperliquid</td>\n",
       "      <td>1h</td>\n",
       "      <td>-0.12969</td>\n",
       "    </tr>\n",
       "    <tr>\n",
       "      <th>61</th>\n",
       "      <td>Hyperliquid</td>\n",
       "      <td>24h</td>\n",
       "      <td>-11.50020</td>\n",
       "    </tr>\n",
       "    <tr>\n",
       "      <th>62</th>\n",
       "      <td>Hyperliquid</td>\n",
       "      <td>7d</td>\n",
       "      <td>-0.87078</td>\n",
       "    </tr>\n",
       "    <tr>\n",
       "      <th>63</th>\n",
       "      <td>Hyperliquid</td>\n",
       "      <td>30d</td>\n",
       "      <td>47.68807</td>\n",
       "    </tr>\n",
       "    <tr>\n",
       "      <th>64</th>\n",
       "      <td>Hyperliquid</td>\n",
       "      <td>60d</td>\n",
       "      <td>137.50788</td>\n",
       "    </tr>\n",
       "    <tr>\n",
       "      <th>65</th>\n",
       "      <td>Hyperliquid</td>\n",
       "      <td>90d</td>\n",
       "      <td>163.68361</td>\n",
       "    </tr>\n",
       "    <tr>\n",
       "      <th>66</th>\n",
       "      <td>Sui</td>\n",
       "      <td>1h</td>\n",
       "      <td>0.05990</td>\n",
       "    </tr>\n",
       "    <tr>\n",
       "      <th>67</th>\n",
       "      <td>Sui</td>\n",
       "      <td>24h</td>\n",
       "      <td>-7.48328</td>\n",
       "    </tr>\n",
       "    <tr>\n",
       "      <th>68</th>\n",
       "      <td>Sui</td>\n",
       "      <td>7d</td>\n",
       "      <td>-15.58703</td>\n",
       "    </tr>\n",
       "    <tr>\n",
       "      <th>69</th>\n",
       "      <td>Sui</td>\n",
       "      <td>30d</td>\n",
       "      <td>-25.75303</td>\n",
       "    </tr>\n",
       "    <tr>\n",
       "      <th>70</th>\n",
       "      <td>Sui</td>\n",
       "      <td>60d</td>\n",
       "      <td>36.53567</td>\n",
       "    </tr>\n",
       "    <tr>\n",
       "      <th>71</th>\n",
       "      <td>Sui</td>\n",
       "      <td>90d</td>\n",
       "      <td>20.62352</td>\n",
       "    </tr>\n",
       "    <tr>\n",
       "      <th>72</th>\n",
       "      <td>Bitcoin Cash</td>\n",
       "      <td>1h</td>\n",
       "      <td>-0.25158</td>\n",
       "    </tr>\n",
       "    <tr>\n",
       "      <th>73</th>\n",
       "      <td>Bitcoin Cash</td>\n",
       "      <td>24h</td>\n",
       "      <td>-1.45869</td>\n",
       "    </tr>\n",
       "    <tr>\n",
       "      <th>74</th>\n",
       "      <td>Bitcoin Cash</td>\n",
       "      <td>7d</td>\n",
       "      <td>6.53586</td>\n",
       "    </tr>\n",
       "    <tr>\n",
       "      <th>75</th>\n",
       "      <td>Bitcoin Cash</td>\n",
       "      <td>30d</td>\n",
       "      <td>14.78334</td>\n",
       "    </tr>\n",
       "    <tr>\n",
       "      <th>76</th>\n",
       "      <td>Bitcoin Cash</td>\n",
       "      <td>60d</td>\n",
       "      <td>35.38865</td>\n",
       "    </tr>\n",
       "    <tr>\n",
       "      <th>77</th>\n",
       "      <td>Bitcoin Cash</td>\n",
       "      <td>90d</td>\n",
       "      <td>34.63032</td>\n",
       "    </tr>\n",
       "    <tr>\n",
       "      <th>78</th>\n",
       "      <td>Chainlink</td>\n",
       "      <td>1h</td>\n",
       "      <td>0.61954</td>\n",
       "    </tr>\n",
       "    <tr>\n",
       "      <th>79</th>\n",
       "      <td>Chainlink</td>\n",
       "      <td>24h</td>\n",
       "      <td>-3.72955</td>\n",
       "    </tr>\n",
       "    <tr>\n",
       "      <th>80</th>\n",
       "      <td>Chainlink</td>\n",
       "      <td>7d</td>\n",
       "      <td>-11.92316</td>\n",
       "    </tr>\n",
       "    <tr>\n",
       "      <th>81</th>\n",
       "      <td>Chainlink</td>\n",
       "      <td>30d</td>\n",
       "      <td>-16.12644</td>\n",
       "    </tr>\n",
       "    <tr>\n",
       "      <th>82</th>\n",
       "      <td>Chainlink</td>\n",
       "      <td>60d</td>\n",
       "      <td>5.50234</td>\n",
       "    </tr>\n",
       "    <tr>\n",
       "      <th>83</th>\n",
       "      <td>Chainlink</td>\n",
       "      <td>90d</td>\n",
       "      <td>-8.47417</td>\n",
       "    </tr>\n",
       "    <tr>\n",
       "      <th>84</th>\n",
       "      <td>UNUS SED LEO</td>\n",
       "      <td>1h</td>\n",
       "      <td>-0.06443</td>\n",
       "    </tr>\n",
       "    <tr>\n",
       "      <th>85</th>\n",
       "      <td>UNUS SED LEO</td>\n",
       "      <td>24h</td>\n",
       "      <td>-0.57974</td>\n",
       "    </tr>\n",
       "    <tr>\n",
       "      <th>86</th>\n",
       "      <td>UNUS SED LEO</td>\n",
       "      <td>7d</td>\n",
       "      <td>3.84480</td>\n",
       "    </tr>\n",
       "    <tr>\n",
       "      <th>87</th>\n",
       "      <td>UNUS SED LEO</td>\n",
       "      <td>30d</td>\n",
       "      <td>6.03813</td>\n",
       "    </tr>\n",
       "    <tr>\n",
       "      <th>88</th>\n",
       "      <td>UNUS SED LEO</td>\n",
       "      <td>60d</td>\n",
       "      <td>0.64359</td>\n",
       "    </tr>\n",
       "    <tr>\n",
       "      <th>89</th>\n",
       "      <td>UNUS SED LEO</td>\n",
       "      <td>90d</td>\n",
       "      <td>-6.18666</td>\n",
       "    </tr>\n",
       "  </tbody>\n",
       "</table>\n",
       "</div>"
      ],
      "text/plain": [
       "            name percent_change    values\n",
       "0        Bitcoin             1h  -0.04623\n",
       "1        Bitcoin            24h  -1.50615\n",
       "2        Bitcoin             7d  -3.25188\n",
       "3        Bitcoin            30d   0.70259\n",
       "4        Bitcoin            60d  24.81129\n",
       "5        Bitcoin            90d  25.09986\n",
       "6       Ethereum             1h   0.45458\n",
       "7       Ethereum            24h  -2.76295\n",
       "8       Ethereum             7d  -6.67558\n",
       "9       Ethereum            30d   0.90831\n",
       "10      Ethereum            60d  60.96405\n",
       "11      Ethereum            90d  25.90830\n",
       "12   Tether USDt             1h  -0.00748\n",
       "13   Tether USDt            24h  -0.01539\n",
       "14   Tether USDt             7d  -0.01384\n",
       "15   Tether USDt            30d   0.00586\n",
       "16   Tether USDt            60d   0.02253\n",
       "17   Tether USDt            90d   0.01145\n",
       "18           XRP             1h   0.40654\n",
       "19           XRP            24h  -1.69354\n",
       "20           XRP             7d  -3.03309\n",
       "21           XRP            30d  -7.80542\n",
       "22           XRP            60d   6.82767\n",
       "23           XRP            90d -13.30316\n",
       "24           BNB             1h  -0.21551\n",
       "25           BNB            24h  -0.68066\n",
       "26           BNB             7d  -1.41226\n",
       "27           BNB            30d   0.59909\n",
       "28           BNB            60d  10.19432\n",
       "29           BNB            90d   6.67608\n",
       "30        Solana             1h   0.03461\n",
       "31        Solana            24h  -4.30246\n",
       "32        Solana             7d  -5.47471\n",
       "33        Solana            30d -13.35834\n",
       "34        Solana            60d  11.43151\n",
       "35        Solana            90d  13.26101\n",
       "36          USDC             1h  -0.00251\n",
       "37          USDC            24h  -0.01069\n",
       "38          USDC             7d  -0.00545\n",
       "39          USDC            30d   0.01458\n",
       "40          USDC            60d  -0.00512\n",
       "41          USDC            90d  -0.02029\n",
       "42          TRON             1h   0.09748\n",
       "43          TRON            24h   0.28272\n",
       "44          TRON             7d  -4.75034\n",
       "45          TRON            30d   2.21354\n",
       "46          TRON            60d  14.77060\n",
       "47          TRON            90d  21.08826\n",
       "48      Dogecoin             1h  -0.03527\n",
       "49      Dogecoin            24h  -3.77754\n",
       "50      Dogecoin             7d -10.83629\n",
       "51      Dogecoin            30d -24.34103\n",
       "52      Dogecoin            60d   9.53128\n",
       "53      Dogecoin            90d  -1.02323\n",
       "54       Cardano             1h   0.17590\n",
       "55       Cardano            24h  -3.95300\n",
       "56       Cardano             7d -10.63139\n",
       "57       Cardano            30d -18.27685\n",
       "58       Cardano            60d   0.78647\n",
       "59       Cardano            90d -15.86339\n",
       "60   Hyperliquid             1h  -0.12969\n",
       "61   Hyperliquid            24h -11.50020\n",
       "62   Hyperliquid             7d  -0.87078\n",
       "63   Hyperliquid            30d  47.68807\n",
       "64   Hyperliquid            60d 137.50788\n",
       "65   Hyperliquid            90d 163.68361\n",
       "66           Sui             1h   0.05990\n",
       "67           Sui            24h  -7.48328\n",
       "68           Sui             7d -15.58703\n",
       "69           Sui            30d -25.75303\n",
       "70           Sui            60d  36.53567\n",
       "71           Sui            90d  20.62352\n",
       "72  Bitcoin Cash             1h  -0.25158\n",
       "73  Bitcoin Cash            24h  -1.45869\n",
       "74  Bitcoin Cash             7d   6.53586\n",
       "75  Bitcoin Cash            30d  14.78334\n",
       "76  Bitcoin Cash            60d  35.38865\n",
       "77  Bitcoin Cash            90d  34.63032\n",
       "78     Chainlink             1h   0.61954\n",
       "79     Chainlink            24h  -3.72955\n",
       "80     Chainlink             7d -11.92316\n",
       "81     Chainlink            30d -16.12644\n",
       "82     Chainlink            60d   5.50234\n",
       "83     Chainlink            90d  -8.47417\n",
       "84  UNUS SED LEO             1h  -0.06443\n",
       "85  UNUS SED LEO            24h  -0.57974\n",
       "86  UNUS SED LEO             7d   3.84480\n",
       "87  UNUS SED LEO            30d   6.03813\n",
       "88  UNUS SED LEO            60d   0.64359\n",
       "89  UNUS SED LEO            90d  -6.18666"
      ]
     },
     "execution_count": 12,
     "metadata": {},
     "output_type": "execute_result"
    }
   ],
   "source": [
    "# Je remplace quote.USD.percent_change_[time] par juste 1h, 24h ...\n",
    "df7['percent_change'] = df7['percent_change'].replace(['quote.USD.percent_change_1h','quote.USD.percent_change_24h','quote.USD.percent_change_7d','quote.USD.percent_change_30d','quote.USD.percent_change_60d','quote.USD.percent_change_90d'],['1h','24h','7d','30d','60d','90d'])\n",
    "df7"
   ]
  },
  {
   "cell_type": "code",
   "execution_count": 15,
   "id": "e68d937d-28d8-49f1-80be-79cb017c3cef",
   "metadata": {},
   "outputs": [
    {
     "data": {
      "image/png": "[encoded data removed]",
      "text/plain": [
       "<Figure size 1400x600 with 1 Axes>"
      ]
     },
     "metadata": {},
     "output_type": "display_data"
    }
   ],
   "source": [
    "# Visualition des crypto par période\n",
    "plt.figure(figsize=(14, 6))\n",
    "sns.lineplot(x='percent_change', y='values', hue='name', data=df7, marker='o')\n",
    "plt.xticks(rotation=45)\n",
    "plt.title(\"Évolution des cryptos par période\", fontsize=16)\n",
    "plt.xlabel(\"Période\")\n",
    "plt.ylabel(\"Pourcentage de variation (%)\")\n",
    "plt.legend(title=\"Crypto\")\n",
    "plt.tight_layout()\n",
    "plt.show()\n"
   ]
  },
  {
   "cell_type": "code",
   "execution_count": 16,
   "id": "23186b18-7084-4440-8c43-d5b02f4bd49e",
   "metadata": {},
   "outputs": [
    {
     "data": {
      "application/vnd.plotly.v1+json": {
       "config": {
        "plotlyServerURL": "https://plot.ly"
       },
       "data": [
        {
         "hovertemplate": "<b>%{hovertext}</b><br><br>name=Bitcoin<br>Période de variation=%{x}<br>Variation (%)=%{y}<extra></extra>",
         "hovertext": [
          "Bitcoin",
          "Bitcoin",
          "Bitcoin",
          "Bitcoin",
          "Bitcoin",
          "Bitcoin"
         ],
         "legendgroup": "Bitcoin",
         "marker": {
          "color": "#636efa",
          "symbol": "circle"
         },
         "mode": "lines+markers",
         "name": "Bitcoin",
         "orientation": "v",
         "showlegend": true,
         "type": "scatter",
         "x": [
          "1h",
          "24h",
          "7d",
          "30d",
          "60d",
          "90d"
         ],
         "xaxis": "x",
         "y": {
          "_inputArray": {
           "0": -0.04623355,
           "1": -1.50615135,
           "2": -3.25187866,
           "3": 0.70259467,
           "4": 24.81129083,
           "5": 25.0998585,
           "bdata": "5rl0guyrp79SOHEoMhn4vxoVevXYAwrAIc4/0ad75j8LZX7BsM84QEW6n1OQGTlA",
           "dtype": "f8",
           "shape": "6"
          },
          "bdata": "5rl0guyrp79SOHEoMhn4vxoVevXYAwrAIc4/0ad75j8LZX7BsM84QEW6n1OQGTlA",
          "dtype": "f8"
         },
         "yaxis": "y"
        },
        {
         "hovertemplate": "<b>%{hovertext}</b><br><br>name=Ethereum<br>Période de variation=%{x}<br>Variation (%)=%{y}<extra></extra>",
         "hovertext": [
          "Ethereum",
          "Ethereum",
          "Ethereum",
          "Ethereum",
          "Ethereum",
          "Ethereum"
         ],
         "legendgroup": "Ethereum",
         "marker": {
          "color": "#EF553B",
          "symbol": "circle"
         },
         "mode": "lines+markers",
         "name": "Ethereum",
         "orientation": "v",
         "showlegend": true,
         "type": "scatter",
         "x": [
          "1h",
          "24h",
          "7d",
          "30d",
          "60d",
          "90d"
         ],
         "xaxis": "x",
         "y": {
          "_inputArray": {
           "0": 0.45457502,
           "1": -2.76294993,
           "2": -6.67558188,
           "3": 0.90830785,
           "4": 60.9640506,
           "5": 25.90829954,
           "bdata": "f6Ae08EX3T8Vry5+hRoGwBV7gbzLsxrAAWfOn9sQ7T83WJMCZntOQJhFk1GG6DlA",
           "dtype": "f8",
           "shape": "6"
          },
          "bdata": "f6Ae08EX3T8Vry5+hRoGwBV7gbzLsxrAAWfOn9sQ7T83WJMCZntOQJhFk1GG6DlA",
          "dtype": "f8"
         },
         "yaxis": "y"
        },
        {
         "hovertemplate": "<b>%{hovertext}</b><br><br>name=Tether USDt<br>Période de variation=%{x}<br>Variation (%)=%{y}<extra></extra>",
         "hovertext": [
          "Tether USDt",
          "Tether USDt",
          "Tether USDt",
          "Tether USDt",
          "Tether USDt",
          "Tether USDt"
         ],
         "legendgroup": "Tether USDt",
         "marker": {
          "color": "#00cc96",
          "symbol": "circle"
         },
         "mode": "lines+markers",
         "name": "Tether USDt",
         "orientation": "v",
         "showlegend": true,
         "type": "scatter",
         "x": [
          "1h",
          "24h",
          "7d",
          "30d",
          "60d",
          "90d"
         ],
         "xaxis": "x",
         "y": {
          "_inputArray": {
           "0": -0.00748415,
           "1": -0.01539339,
           "2": -0.01383877,
           "3": 0.00585855,
           "4": 0.02252826,
           "5": 0.01145176,
           "bdata": "5lDQN7Onfr9cIP/UkYaPvwDxiESAV4y/a4NuiiL/dz9qPr7vpRGXPy0AdDUFdIc/",
           "dtype": "f8",
           "shape": "6"
          },
          "bdata": "5lDQN7Onfr9cIP/UkYaPvwDxiESAV4y/a4NuiiL/dz9qPr7vpRGXPy0AdDUFdIc/",
          "dtype": "f8"
         },
         "yaxis": "y"
        },
        {
         "hovertemplate": "<b>%{hovertext}</b><br><br>name=XRP<br>Période de variation=%{x}<br>Variation (%)=%{y}<extra></extra>",
         "hovertext": [
          "XRP",
          "XRP",
          "XRP",
          "XRP",
          "XRP",
          "XRP"
         ],
         "legendgroup": "XRP",
         "marker": {
          "color": "#ab63fa",
          "symbol": "circle"
         },
         "mode": "lines+markers",
         "name": "XRP",
         "orientation": "v",
         "showlegend": true,
         "type": "scatter",
         "x": [
          "1h",
          "24h",
          "7d",
          "30d",
          "60d",
          "90d"
         ],
         "xaxis": "x",
         "y": {
          "_inputArray": {
           "0": 0.40654391,
           "1": -1.69354312,
           "2": -3.03309011,
           "3": -7.80541604,
           "4": 6.82767119,
           "5": -13.30315591,
           "bdata": "QqF1v9AE2j+7QKyrwBj7vxgrYr/EQwjAM+V9+744H8DMkFMJiU8bQAcUXkA3myrA",
           "dtype": "f8",
           "shape": "6"
          },
          "bdata": "QqF1v9AE2j+7QKyrwBj7vxgrYr/EQwjAM+V9+744H8DMkFMJiU8bQAcUXkA3myrA",
          "dtype": "f8"
         },
         "yaxis": "y"
        },
        {
         "hovertemplate": "<b>%{hovertext}</b><br><br>name=BNB<br>Période de variation=%{x}<br>Variation (%)=%{y}<extra></extra>",
         "hovertext": [
          "BNB",
          "BNB",
          "BNB",
          "BNB",
          "BNB",
          "BNB"
         ],
         "legendgroup": "BNB",
         "marker": {
          "color": "#FFA15A",
          "symbol": "circle"
         },
         "mode": "lines+markers",
         "name": "BNB",
         "orientation": "v",
         "showlegend": true,
         "type": "scatter",
         "x": [
          "1h",
          "24h",
          "7d",
          "30d",
          "60d",
          "90d"
         ],
         "xaxis": "x",
         "y": {
          "_inputArray": {
           "0": -0.21551246,
           "1": -0.68065811,
           "2": -1.4122574,
           "3": 0.59909024,
           "4": 10.1943241,
           "5": 6.67608348,
           "bdata": "F07Ki+mVy78koUaE88flvzqLKDebmPa/quOES78r4z82psxyfmMkQA3dTzpPtBpA",
           "dtype": "f8",
           "shape": "6"
          },
          "bdata": "F07Ki+mVy78koUaE88flvzqLKDebmPa/quOES78r4z82psxyfmMkQA3dTzpPtBpA",
          "dtype": "f8"
         },
         "yaxis": "y"
        },
        {
         "hovertemplate": "<b>%{hovertext}</b><br><br>name=Solana<br>Période de variation=%{x}<br>Variation (%)=%{y}<extra></extra>",
         "hovertext": [
          "Solana",
          "Solana",
          "Solana",
          "Solana",
          "Solana",
          "Solana"
         ],
         "legendgroup": "Solana",
         "marker": {
          "color": "#19d3f3",
          "symbol": "circle"
         },
         "mode": "lines+markers",
         "name": "Solana",
         "orientation": "v",
         "showlegend": true,
         "type": "scatter",
         "x": [
          "1h",
          "24h",
          "7d",
          "30d",
          "60d",
          "90d"
         ],
         "xaxis": "x",
         "y": {
          "_inputArray": {
           "0": 0.03460665,
           "1": -4.30246322,
           "2": -5.47470665,
           "3": -13.35833624,
           "4": 11.43150659,
           "5": 13.26100847,
           "bdata": "pr/ye/a3oT9IkhjruDURwF7GA4AZ5hXAEIv/2He3KsDxHYhu7twmQAxC9eaihSpA",
           "dtype": "f8",
           "shape": "6"
          },
          "bdata": "pr/ye/a3oT9IkhjruDURwF7GA4AZ5hXAEIv/2He3KsDxHYhu7twmQAxC9eaihSpA",
          "dtype": "f8"
         },
         "yaxis": "y"
        },
        {
         "hovertemplate": "<b>%{hovertext}</b><br><br>name=USDC<br>Période de variation=%{x}<br>Variation (%)=%{y}<extra></extra>",
         "hovertext": [
          "USDC",
          "USDC",
          "USDC",
          "USDC",
          "USDC",
          "USDC"
         ],
         "legendgroup": "USDC",
         "marker": {
          "color": "#FF6692",
          "symbol": "circle"
         },
         "mode": "lines+markers",
         "name": "USDC",
         "orientation": "v",
         "showlegend": true,
         "type": "scatter",
         "x": [
          "1h",
          "24h",
          "7d",
          "30d",
          "60d",
          "90d"
         ],
         "xaxis": "x",
         "y": {
          "_inputArray": {
           "0": -0.00251251,
           "1": -0.01068789,
           "2": -0.00545286,
           "3": 0.01458144,
           "4": -0.0051227,
           "5": -0.02029312,
           "bdata": "Sun8iB2VZL9tIBtQiOOFv3wn6vW8VXa/n75tv9/cjT/XunlPivt0vzFq7zq4x5S/",
           "dtype": "f8",
           "shape": "6"
          },
          "bdata": "Sun8iB2VZL9tIBtQiOOFv3wn6vW8VXa/n75tv9/cjT/XunlPivt0vzFq7zq4x5S/",
          "dtype": "f8"
         },
         "yaxis": "y"
        },
        {
         "hovertemplate": "<b>%{hovertext}</b><br><br>name=TRON<br>Période de variation=%{x}<br>Variation (%)=%{y}<extra></extra>",
         "hovertext": [
          "TRON",
          "TRON",
          "TRON",
          "TRON",
          "TRON",
          "TRON"
         ],
         "legendgroup": "TRON",
         "marker": {
          "color": "#B6E880",
          "symbol": "circle"
         },
         "mode": "lines+markers",
         "name": "TRON",
         "orientation": "v",
         "showlegend": true,
         "type": "scatter",
         "x": [
          "1h",
          "24h",
          "7d",
          "30d",
          "60d",
          "90d"
         ],
         "xaxis": "x",
         "y": {
          "_inputArray": {
           "0": 0.09747752,
           "1": 0.28272108,
           "2": -4.75033565,
           "3": 2.21354102,
           "4": 14.77059671,
           "5": 21.08825768,
           "bdata": "gcR+aEn0uD/hWB8oGhjSP3QXF/1XABPALgmK/lS1AUDcteemi4otQIk4KQ6YFjVA",
           "dtype": "f8",
           "shape": "6"
          },
          "bdata": "gcR+aEn0uD/hWB8oGhjSP3QXF/1XABPALgmK/lS1AUDcteemi4otQIk4KQ6YFjVA",
          "dtype": "f8"
         },
         "yaxis": "y"
        },
        {
         "hovertemplate": "<b>%{hovertext}</b><br><br>name=Dogecoin<br>Période de variation=%{x}<br>Variation (%)=%{y}<extra></extra>",
         "hovertext": [
          "Dogecoin",
          "Dogecoin",
          "Dogecoin",
          "Dogecoin",
          "Dogecoin",
          "Dogecoin"
         ],
         "legendgroup": "Dogecoin",
         "marker": {
          "color": "#FF97FF",
          "symbol": "circle"
         },
         "mode": "lines+markers",
         "name": "Dogecoin",
         "orientation": "v",
         "showlegend": true,
         "type": "scatter",
         "x": [
          "1h",
          "24h",
          "7d",
          "30d",
          "60d",
          "90d"
         ],
         "xaxis": "x",
         "y": {
          "_inputArray": {
           "0": -0.03527461,
           "1": -3.77754168,
           "2": -10.8362874,
           "3": -24.34102838,
           "4": 9.53128485,
           "5": -1.02323387,
           "bdata": "8oaogIMPor/jA7fFZzgOwB4dstwtrCXAnRvLok1XOMB1OF+RBBAjQMfzfHoqX/C/",
           "dtype": "f8",
           "shape": "6"
          },
          "bdata": "8oaogIMPor/jA7fFZzgOwB4dstwtrCXAnRvLok1XOMB1OF+RBBAjQMfzfHoqX/C/",
          "dtype": "f8"
         },
         "yaxis": "y"
        },
        {
         "hovertemplate": "<b>%{hovertext}</b><br><br>name=Cardano<br>Période de variation=%{x}<br>Variation (%)=%{y}<extra></extra>",
         "hovertext": [
          "Cardano",
          "Cardano",
          "Cardano",
          "Cardano",
          "Cardano",
          "Cardano"
         ],
         "legendgroup": "Cardano",
         "marker": {
          "color": "#FECB52",
          "symbol": "circle"
         },
         "mode": "lines+markers",
         "name": "Cardano",
         "orientation": "v",
         "showlegend": true,
         "type": "scatter",
         "x": [
          "1h",
          "24h",
          "7d",
          "30d",
          "60d",
          "90d"
         ],
         "xaxis": "x",
         "y": {
          "_inputArray": {
           "0": 0.17589598,
           "1": -3.95299569,
           "2": -10.6313864,
           "3": -18.27685497,
           "4": 0.78647347,
           "5": -15.86338638,
           "bdata": "AofMbMKDxj9MO040vJ8PwEJHBhRFQyXAk+Kh999GMsDaShppyirpP9vSk8cNui/A",
           "dtype": "f8",
           "shape": "6"
          },
          "bdata": "AofMbMKDxj9MO040vJ8PwEJHBhRFQyXAk+Kh999GMsDaShppyirpP9vSk8cNui/A",
          "dtype": "f8"
         },
         "yaxis": "y"
        },
        {
         "hovertemplate": "<b>%{hovertext}</b><br><br>name=Hyperliquid<br>Période de variation=%{x}<br>Variation (%)=%{y}<extra></extra>",
         "hovertext": [
          "Hyperliquid",
          "Hyperliquid",
          "Hyperliquid",
          "Hyperliquid",
          "Hyperliquid",
          "Hyperliquid"
         ],
         "legendgroup": "Hyperliquid",
         "marker": {
          "color": "#636efa",
          "symbol": "circle"
         },
         "mode": "lines+markers",
         "name": "Hyperliquid",
         "orientation": "v",
         "showlegend": true,
         "type": "scatter",
         "x": [
          "1h",
          "24h",
          "7d",
          "30d",
          "60d",
          "90d"
         ],
         "xaxis": "x",
         "y": {
          "_inputArray": {
           "0": -0.1296884,
           "1": -11.50020422,
           "2": -0.8707782,
           "3": 47.68807276,
           "4": 137.50788499,
           "5": 163.68360523,
           "bdata": "H9VVJqGZwL9AcXzEGgAnwF47Yj5q3eu/9ruoxBLYR0C9xQWYQDBhQDBHExjgdWRA",
           "dtype": "f8",
           "shape": "6"
          },
          "bdata": "H9VVJqGZwL9AcXzEGgAnwF47Yj5q3eu/9ruoxBLYR0C9xQWYQDBhQDBHExjgdWRA",
          "dtype": "f8"
         },
         "yaxis": "y"
        },
        {
         "hovertemplate": "<b>%{hovertext}</b><br><br>name=Sui<br>Période de variation=%{x}<br>Variation (%)=%{y}<extra></extra>",
         "hovertext": [
          "Sui",
          "Sui",
          "Sui",
          "Sui",
          "Sui",
          "Sui"
         ],
         "legendgroup": "Sui",
         "marker": {
          "color": "#EF553B",
          "symbol": "circle"
         },
         "mode": "lines+markers",
         "name": "Sui",
         "orientation": "v",
         "showlegend": true,
         "type": "scatter",
         "x": [
          "1h",
          "24h",
          "7d",
          "30d",
          "60d",
          "90d"
         ],
         "xaxis": "x",
         "y": {
          "_inputArray": {
           "0": 0.0599037,
           "1": -7.48327866,
           "2": -15.58702623,
           "3": -25.75302701,
           "4": 36.53567356,
           "5": 20.62351729,
           "bdata": "P5zRoLKrrj8EON6Z4O4dwAR9t7OOLC/AZfTMYMbAOcAVxILzkERCQGEKQdSenzRA",
           "dtype": "f8",
           "shape": "6"
          },
          "bdata": "P5zRoLKrrj8EON6Z4O4dwAR9t7OOLC/AZfTMYMbAOcAVxILzkERCQGEKQdSenzRA",
          "dtype": "f8"
         },
         "yaxis": "y"
        },
        {
         "hovertemplate": "<b>%{hovertext}</b><br><br>name=Bitcoin Cash<br>Période de variation=%{x}<br>Variation (%)=%{y}<extra></extra>",
         "hovertext": [
          "Bitcoin Cash",
          "Bitcoin Cash",
          "Bitcoin Cash",
          "Bitcoin Cash",
          "Bitcoin Cash",
          "Bitcoin Cash"
         ],
         "legendgroup": "Bitcoin Cash",
         "marker": {
          "color": "#00cc96",
          "symbol": "circle"
         },
         "mode": "lines+markers",
         "name": "Bitcoin Cash",
         "orientation": "v",
         "showlegend": true,
         "type": "scatter",
         "x": [
          "1h",
          "24h",
          "7d",
          "30d",
          "60d",
          "90d"
         ],
         "xaxis": "x",
         "y": {
          "_inputArray": {
           "0": -0.25158169,
           "1": -1.45868633,
           "2": 6.53585755,
           "3": 14.78334424,
           "4": 35.38865302,
           "5": 34.63031527,
           "bdata": "X6K0FuoZ0L9kjid6x1b3vz1Ccte3JBpAtZ4IfxKRLUAhMtVhv7FBQOJotyuuUEFA",
           "dtype": "f8",
           "shape": "6"
          },
          "bdata": "X6K0FuoZ0L9kjid6x1b3vz1Ccte3JBpAtZ4IfxKRLUAhMtVhv7FBQOJotyuuUEFA",
          "dtype": "f8"
         },
         "yaxis": "y"
        },
        {
         "hovertemplate": "<b>%{hovertext}</b><br><br>name=Chainlink<br>Période de variation=%{x}<br>Variation (%)=%{y}<extra></extra>",
         "hovertext": [
          "Chainlink",
          "Chainlink",
          "Chainlink",
          "Chainlink",
          "Chainlink",
          "Chainlink"
         ],
         "legendgroup": "Chainlink",
         "marker": {
          "color": "#ab63fa",
          "symbol": "circle"
         },
         "mode": "lines+markers",
         "name": "Chainlink",
         "orientation": "v",
         "showlegend": true,
         "type": "scatter",
         "x": [
          "1h",
          "24h",
          "7d",
          "30d",
          "60d",
          "90d"
         ],
         "xaxis": "x",
         "y": {
          "_inputArray": {
           "0": 0.61954402,
           "1": -3.72954825,
           "2": -11.92316157,
           "3": -16.12643588,
           "4": 5.50234147,
           "5": -8.47416744,
           "bdata": "xqIK+03T4z8P1ZRkHdYNwOUlIKKo2CfAF6QRGl4gMMBbTGTNZQIWQI9BHxPG8iDA",
           "dtype": "f8",
           "shape": "6"
          },
          "bdata": "xqIK+03T4z8P1ZRkHdYNwOUlIKKo2CfAF6QRGl4gMMBbTGTNZQIWQI9BHxPG8iDA",
          "dtype": "f8"
         },
         "yaxis": "y"
        },
        {
         "hovertemplate": "<b>%{hovertext}</b><br><br>name=UNUS SED LEO<br>Période de variation=%{x}<br>Variation (%)=%{y}<extra></extra>",
         "hovertext": [
          "UNUS SED LEO",
          "UNUS SED LEO",
          "UNUS SED LEO",
          "UNUS SED LEO",
          "UNUS SED LEO",
          "UNUS SED LEO"
         ],
         "legendgroup": "UNUS SED LEO",
         "marker": {
          "color": "#FFA15A",
          "symbol": "circle"
         },
         "mode": "lines+markers",
         "name": "UNUS SED LEO",
         "orientation": "v",
         "showlegend": true,
         "type": "scatter",
         "x": [
          "1h",
          "24h",
          "7d",
          "30d",
          "60d",
          "90d"
         ],
         "xaxis": "x",
         "y": {
          "_inputArray": {
           "0": -0.06442756,
           "1": -0.57974055,
           "2": 3.84479964,
           "3": 6.03812514,
           "4": 0.64358666,
           "5": -6.18666071,
           "bdata": "ZDwpF1N+sL8dSM0NPI3iv9XHS1Amwg5AWtLVRgonGECc8BoNQ5jkP7KXM/wjvxjA",
           "dtype": "f8",
           "shape": "6"
          },
          "bdata": "ZDwpF1N+sL8dSM0NPI3iv9XHS1Amwg5AWtLVRgonGECc8BoNQ5jkP7KXM/wjvxjA",
          "dtype": "f8"
         },
         "yaxis": "y"
        }
       ],
       "layout": {
        "autosize": true,
        "dragmode": "pan",
        "legend": {
         "title": {
          "text": "name"
         },
         "tracegroupgap": 0
        },
        "template": {
         "data": {
          "bar": [
           {
            "error_x": {
             "color": "#2a3f5f"
            },
            "error_y": {
             "color": "#2a3f5f"
            },
            "marker": {
             "line": {
              "color": "#E5ECF6",
              "width": 0.5
             },
             "pattern": {
              "fillmode": "overlay",
              "size": 10,
              "solidity": 0.2
             }
            },
            "type": "bar"
           }
          ],
          "barpolar": [
           {
            "marker": {
             "line": {
              "color": "#E5ECF6",
              "width": 0.5
             },
             "pattern": {
              "fillmode": "overlay",
              "size": 10,
              "solidity": 0.2
             }
            },
            "type": "barpolar"
           }
          ],
          "carpet": [
           {
            "aaxis": {
             "endlinecolor": "#2a3f5f",
             "gridcolor": "white",
             "linecolor": "white",
             "minorgridcolor": "white",
             "startlinecolor": "#2a3f5f"
            },
            "baxis": {
             "endlinecolor": "#2a3f5f",
             "gridcolor": "white",
             "linecolor": "white",
             "minorgridcolor": "white",
             "startlinecolor": "#2a3f5f"
            },
            "type": "carpet"
           }
          ],
          "choropleth": [
           {
            "colorbar": {
             "outlinewidth": 0,
             "ticks": ""
            },
            "type": "choropleth"
           }
          ],
          "contour": [
           {
            "colorbar": {
             "outlinewidth": 0,
             "ticks": ""
            },
            "colorscale": [
             [
              0,
              "#0d0887"
             ],
             [
              0.1111111111111111,
              "#46039f"
             ],
             [
              0.2222222222222222,
              "#7201a8"
             ],
             [
              0.3333333333333333,
              "#9c179e"
             ],
             [
              0.4444444444444444,
              "#bd3786"
             ],
             [
              0.5555555555555556,
              "#d8576b"
             ],
             [
              0.6666666666666666,
              "#ed7953"
             ],
             [
              0.7777777777777778,
              "#fb9f3a"
             ],
             [
              0.8888888888888888,
              "#fdca26"
             ],
             [
              1,
              "#f0f921"
             ]
            ],
            "type": "contour"
           }
          ],
          "contourcarpet": [
           {
            "colorbar": {
             "outlinewidth": 0,
             "ticks": ""
            },
            "type": "contourcarpet"
           }
          ],
          "heatmap": [
           {
            "colorbar": {
             "outlinewidth": 0,
             "ticks": ""
            },
            "colorscale": [
             [
              0,
              "#0d0887"
             ],
             [
              0.1111111111111111,
              "#46039f"
             ],
             [
              0.2222222222222222,
              "#7201a8"
             ],
             [
              0.3333333333333333,
              "#9c179e"
             ],
             [
              0.4444444444444444,
              "#bd3786"
             ],
             [
              0.5555555555555556,
              "#d8576b"
             ],
             [
              0.6666666666666666,
              "#ed7953"
             ],
             [
              0.7777777777777778,
              "#fb9f3a"
             ],
             [
              0.8888888888888888,
              "#fdca26"
             ],
             [
              1,
              "#f0f921"
             ]
            ],
            "type": "heatmap"
           }
          ],
          "histogram": [
           {
            "marker": {
             "pattern": {
              "fillmode": "overlay",
              "size": 10,
              "solidity": 0.2
             }
            },
            "type": "histogram"
           }
          ],
          "histogram2d": [
           {
            "colorbar": {
             "outlinewidth": 0,
             "ticks": ""
            },
            "colorscale": [
             [
              0,
              "#0d0887"
             ],
             [
              0.1111111111111111,
              "#46039f"
             ],
             [
              0.2222222222222222,
              "#7201a8"
             ],
             [
              0.3333333333333333,
              "#9c179e"
             ],
             [
              0.4444444444444444,
              "#bd3786"
             ],
             [
              0.5555555555555556,
              "#d8576b"
             ],
             [
              0.6666666666666666,
              "#ed7953"
             ],
             [
              0.7777777777777778,
              "#fb9f3a"
             ],
             [
              0.8888888888888888,
              "#fdca26"
             ],
             [
              1,
              "#f0f921"
             ]
            ],
            "type": "histogram2d"
           }
          ],
          "histogram2dcontour": [
           {
            "colorbar": {
             "outlinewidth": 0,
             "ticks": ""
            },
            "colorscale": [
             [
              0,
              "#0d0887"
             ],
             [
              0.1111111111111111,
              "#46039f"
             ],
             [
              0.2222222222222222,
              "#7201a8"
             ],
             [
              0.3333333333333333,
              "#9c179e"
             ],
             [
              0.4444444444444444,
              "#bd3786"
             ],
             [
              0.5555555555555556,
              "#d8576b"
             ],
             [
              0.6666666666666666,
              "#ed7953"
             ],
             [
              0.7777777777777778,
              "#fb9f3a"
             ],
             [
              0.8888888888888888,
              "#fdca26"
             ],
             [
              1,
              "#f0f921"
             ]
            ],
            "type": "histogram2dcontour"
           }
          ],
          "mesh3d": [
           {
            "colorbar": {
             "outlinewidth": 0,
             "ticks": ""
            },
            "type": "mesh3d"
           }
          ],
          "parcoords": [
           {
            "line": {
             "colorbar": {
              "outlinewidth": 0,
              "ticks": ""
             }
            },
            "type": "parcoords"
           }
          ],
          "pie": [
           {
            "automargin": true,
            "type": "pie"
           }
          ],
          "scatter": [
           {
            "fillpattern": {
             "fillmode": "overlay",
             "size": 10,
             "solidity": 0.2
            },
            "type": "scatter"
           }
          ],
          "scatter3d": [
           {
            "line": {
             "colorbar": {
              "outlinewidth": 0,
              "ticks": ""
             }
            },
            "marker": {
             "colorbar": {
              "outlinewidth": 0,
              "ticks": ""
             }
            },
            "type": "scatter3d"
           }
          ],
          "scattercarpet": [
           {
            "marker": {
             "colorbar": {
              "outlinewidth": 0,
              "ticks": ""
             }
            },
            "type": "scattercarpet"
           }
          ],
          "scattergeo": [
           {
            "marker": {
             "colorbar": {
              "outlinewidth": 0,
              "ticks": ""
             }
            },
            "type": "scattergeo"
           }
          ],
          "scattergl": [
           {
            "marker": {
             "colorbar": {
              "outlinewidth": 0,
              "ticks": ""
             }
            },
            "type": "scattergl"
           }
          ],
          "scattermap": [
           {
            "marker": {
             "colorbar": {
              "outlinewidth": 0,
              "ticks": ""
             }
            },
            "type": "scattermap"
           }
          ],
          "scattermapbox": [
           {
            "marker": {
             "colorbar": {
              "outlinewidth": 0,
              "ticks": ""
             }
            },
            "type": "scattermapbox"
           }
          ],
          "scatterpolar": [
           {
            "marker": {
             "colorbar": {
              "outlinewidth": 0,
              "ticks": ""
             }
            },
            "type": "scatterpolar"
           }
          ],
          "scatterpolargl": [
           {
            "marker": {
             "colorbar": {
              "outlinewidth": 0,
              "ticks": ""
             }
            },
            "type": "scatterpolargl"
           }
          ],
          "scatterternary": [
           {
            "marker": {
             "colorbar": {
              "outlinewidth": 0,
              "ticks": ""
             }
            },
            "type": "scatterternary"
           }
          ],
          "surface": [
           {
            "colorbar": {
             "outlinewidth": 0,
             "ticks": ""
            },
            "colorscale": [
             [
              0,
              "#0d0887"
             ],
             [
              0.1111111111111111,
              "#46039f"
             ],
             [
              0.2222222222222222,
              "#7201a8"
             ],
             [
              0.3333333333333333,
              "#9c179e"
             ],
             [
              0.4444444444444444,
              "#bd3786"
             ],
             [
              0.5555555555555556,
              "#d8576b"
             ],
             [
              0.6666666666666666,
              "#ed7953"
             ],
             [
              0.7777777777777778,
              "#fb9f3a"
             ],
             [
              0.8888888888888888,
              "#fdca26"
             ],
             [
              1,
              "#f0f921"
             ]
            ],
            "type": "surface"
           }
          ],
          "table": [
           {
            "cells": {
             "fill": {
              "color": "#EBF0F8"
             },
             "line": {
              "color": "white"
             }
            },
            "header": {
             "fill": {
              "color": "#C8D4E3"
             },
             "line": {
              "color": "white"
             }
            },
            "type": "table"
           }
          ]
         },
         "layout": {
          "annotationdefaults": {
           "arrowcolor": "#2a3f5f",
           "arrowhead": 0,
           "arrowwidth": 1
          },
          "autotypenumbers": "strict",
          "coloraxis": {
           "colorbar": {
            "outlinewidth": 0,
            "ticks": ""
           }
          },
          "colorscale": {
           "diverging": [
            [
             0,
             "#8e0152"
            ],
            [
             0.1,
             "#c51b7d"
            ],
            [
             0.2,
             "#de77ae"
            ],
            [
             0.3,
             "#f1b6da"
            ],
            [
             0.4,
             "#fde0ef"
            ],
            [
             0.5,
             "#f7f7f7"
            ],
            [
             0.6,
             "#e6f5d0"
            ],
            [
             0.7,
             "#b8e186"
            ],
            [
             0.8,
             "#7fbc41"
            ],
            [
             0.9,
             "#4d9221"
            ],
            [
             1,
             "#276419"
            ]
           ],
           "sequential": [
            [
             0,
             "#0d0887"
            ],
            [
             0.1111111111111111,
             "#46039f"
            ],
            [
             0.2222222222222222,
             "#7201a8"
            ],
            [
             0.3333333333333333,
             "#9c179e"
            ],
            [
             0.4444444444444444,
             "#bd3786"
            ],
            [
             0.5555555555555556,
             "#d8576b"
            ],
            [
             0.6666666666666666,
             "#ed7953"
            ],
            [
             0.7777777777777778,
             "#fb9f3a"
            ],
            [
             0.8888888888888888,
             "#fdca26"
            ],
            [
             1,
             "#f0f921"
            ]
           ],
           "sequentialminus": [
            [
             0,
             "#0d0887"
            ],
            [
             0.1111111111111111,
             "#46039f"
            ],
            [
             0.2222222222222222,
             "#7201a8"
            ],
            [
             0.3333333333333333,
             "#9c179e"
            ],
            [
             0.4444444444444444,
             "#bd3786"
            ],
            [
             0.5555555555555556,
             "#d8576b"
            ],
            [
             0.6666666666666666,
             "#ed7953"
            ],
            [
             0.7777777777777778,
             "#fb9f3a"
            ],
            [
             0.8888888888888888,
             "#fdca26"
            ],
            [
             1,
             "#f0f921"
            ]
           ]
          },
          "colorway": [
           "#636efa",
           "#EF553B",
           "#00cc96",
           "#ab63fa",
           "#FFA15A",
           "#19d3f3",
           "#FF6692",
           "#B6E880",
           "#FF97FF",
           "#FECB52"
          ],
          "font": {
           "color": "#2a3f5f"
          },
          "geo": {
           "bgcolor": "white",
           "lakecolor": "white",
           "landcolor": "#E5ECF6",
           "showlakes": true,
           "showland": true,
           "subunitcolor": "white"
          },
          "hoverlabel": {
           "align": "left"
          },
          "hovermode": "closest",
          "mapbox": {
           "style": "light"
          },
          "paper_bgcolor": "white",
          "plot_bgcolor": "#E5ECF6",
          "polar": {
           "angularaxis": {
            "gridcolor": "white",
            "linecolor": "white",
            "ticks": ""
           },
           "bgcolor": "#E5ECF6",
           "radialaxis": {
            "gridcolor": "white",
            "linecolor": "white",
            "ticks": ""
           }
          },
          "scene": {
           "xaxis": {
            "backgroundcolor": "#E5ECF6",
            "gridcolor": "white",
            "gridwidth": 2,
            "linecolor": "white",
            "showbackground": true,
            "ticks": "",
            "zerolinecolor": "white"
           },
           "yaxis": {
            "backgroundcolor": "#E5ECF6",
            "gridcolor": "white",
            "gridwidth": 2,
            "linecolor": "white",
            "showbackground": true,
            "ticks": "",
            "zerolinecolor": "white"
           },
           "zaxis": {
            "backgroundcolor": "#E5ECF6",
            "gridcolor": "white",
            "gridwidth": 2,
            "linecolor": "white",
            "showbackground": true,
            "ticks": "",
            "zerolinecolor": "white"
           }
          },
          "shapedefaults": {
           "line": {
            "color": "#2a3f5f"
           }
          },
          "ternary": {
           "aaxis": {
            "gridcolor": "white",
            "linecolor": "white",
            "ticks": ""
           },
           "baxis": {
            "gridcolor": "white",
            "linecolor": "white",
            "ticks": ""
           },
           "bgcolor": "#E5ECF6",
           "caxis": {
            "gridcolor": "white",
            "linecolor": "white",
            "ticks": ""
           }
          },
          "title": {
           "x": 0.05
          },
          "xaxis": {
           "automargin": true,
           "gridcolor": "white",
           "linecolor": "white",
           "ticks": "",
           "title": {
            "standoff": 15
           },
           "zerolinecolor": "white",
           "zerolinewidth": 2
          },
          "yaxis": {
           "automargin": true,
           "gridcolor": "white",
           "linecolor": "white",
           "ticks": "",
           "title": {
            "standoff": 15
           },
           "zerolinecolor": "white",
           "zerolinewidth": 2
          }
         }
        },
        "title": {
         "text": "Variation des cryptos par période"
        },
        "xaxis": {
         "anchor": "y",
         "autorange": true,
         "domain": [
          0,
          1
         ],
         "range": [
          -0.30508585659981646,
          5.305085856599817
         ],
         "title": {
          "text": "Période de variation"
         },
         "type": "category"
        },
        "yaxis": {
         "anchor": "x",
         "autorange": true,
         "domain": [
          0,
          1
         ],
         "range": [
          -41.38614714631068,
          179.3167253663107
         ],
         "title": {
          "text": "Variation (%)"
         },
         "type": "linear"
        }
       }
      },
      "image/png": "[encoded data removed]"
     },
     "metadata": {},
     "output_type": "display_data"
    }
   ],
   "source": [
    "# J'utilise ploty pour une visualisation dynamique de mes données\n",
    "\n",
    "import plotly.express as px\n",
    "\n",
    "# Supposons que df7 a les colonnes : 'percent_change', 'values', 'name'\n",
    "fig = px.scatter(\n",
    "    df7,\n",
    "    x=\"percent_change\",\n",
    "    y=\"values\",\n",
    "    color=\"name\",\n",
    "    hover_name=\"name\",\n",
    "    title=\"Variation des cryptos par période\",\n",
    "    labels={\n",
    "        \"percent_change\": \"Période de variation\",\n",
    "        \"values\": \"Variation (%)\"\n",
    "    }\n",
    ")\n",
    "\n",
    "fig.update_traces(mode=\"lines+markers\")  # Relier les points\n",
    "fig.show()\n"
   ]
  }
 ],
 "metadata": {
  "kernelspec": {
   "display_name": "Python 3 (ipykernel)",
   "language": "python",
   "name": "python3"
  },
  "language_info": {
   "codemirror_mode": {
    "name": "ipython",
    "version": 3
   },
   "file_extension": ".py",
   "mimetype": "text/x-python",
   "name": "python",
   "nbconvert_exporter": "python",
   "pygments_lexer": "ipython3",
   "version": "3.13.3"
  }
 },
 "nbformat": 4,
 "nbformat_minor": 5
}
